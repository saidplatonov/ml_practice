{
 "cells": [
  {
   "cell_type": "markdown",
   "metadata": {
    "id": "UxKcKjF8qNWZ"
   },
   "source": [
    "\n",
    "# Numpy array. Практическая работа"
   ]
  },
  {
   "cell_type": "markdown",
   "metadata": {
    "id": "_ohvVK9tqXJI"
   },
   "source": [
    "## Цель практической работы\n",
    "\n",
    "Выполните задачи, чтобы потренироваться в использовании функционала NumPy."
   ]
  },
  {
   "cell_type": "markdown",
   "metadata": {
    "id": "pTiwLOIHqXRw"
   },
   "source": [
    "## Что входит в практическое задание\n",
    "\n",
    "10 задач на использование библиотеки NumPy.\n"
   ]
  },
  {
   "cell_type": "code",
   "execution_count": 1,
   "metadata": {
    "id": "hE6zTfZ9yl9r"
   },
   "outputs": [],
   "source": [
    "import numpy as np"
   ]
  },
  {
   "cell_type": "markdown",
   "metadata": {
    "id": "mQ04nzTSqXWw"
   },
   "source": [
    "## Что нужно сделать\n",
    "\n",
    "Скачайте файл с заданием в материалах, откройте его через Jupyter Notebook и выполните задачи. Сверьтесь с ответами, представленными ниже. Обратите внимание, что это задание не нужно сдавать на проверку.\n"
   ]
  },
  {
   "cell_type": "markdown",
   "metadata": {
    "id": "NkvSJDW6qhe-"
   },
   "source": [
    "## Задачи\n"
   ]
  },
  {
   "cell_type": "markdown",
   "metadata": {
    "id": "w9M5Z24hoeDM"
   },
   "source": [
    "1. Создайте вектор размера 10, заполненный нулями, но пятый элемент которого равен 1."
   ]
  },
  {
   "cell_type": "code",
   "execution_count": 2,
   "metadata": {
    "id": "CtNBt-sBogeI"
   },
   "outputs": [
    {
     "data": {
      "text/plain": [
       "array([0., 0., 0., 0., 1., 0., 0., 0., 0., 0.])"
      ]
     },
     "execution_count": 2,
     "metadata": {},
     "output_type": "execute_result"
    }
   ],
   "source": [
    "# ваш код здесь\n",
    "nuls = np.zeros(10)\n",
    "nuls[4] = 1\n",
    "nuls"
   ]
  },
  {
   "cell_type": "markdown",
   "metadata": {
    "id": "YG8zPQvAojpf"
   },
   "source": [
    "2. Создайте вектор со значениями от 10 до 49."
   ]
  },
  {
   "cell_type": "code",
   "execution_count": 3,
   "metadata": {
    "id": "KczCOV7KotMt"
   },
   "outputs": [
    {
     "data": {
      "text/plain": [
       "array([10, 11, 12, 13, 14, 15, 16, 17, 18, 19, 20, 21, 22, 23, 24, 25, 26,\n",
       "       27, 28, 29, 30, 31, 32, 33, 34, 35, 36, 37, 38, 39, 40, 41, 42, 43,\n",
       "       44, 45, 46, 47, 48, 49])"
      ]
     },
     "execution_count": 3,
     "metadata": {},
     "output_type": "execute_result"
    }
   ],
   "source": [
    "# ваш код здесь\n",
    "array_ar = np.arange(10, 50, 1)\n",
    "array_ar"
   ]
  },
  {
   "cell_type": "markdown",
   "metadata": {
    "id": "xUmlDf8JolXg"
   },
   "source": [
    "3. Создайте матрицу (двумерный массив) 3x3 со значениями от 0 до 8."
   ]
  },
  {
   "cell_type": "code",
   "execution_count": 4,
   "metadata": {
    "id": "EcJM6_Yvoto0"
   },
   "outputs": [
    {
     "data": {
      "text/plain": [
       "array([[0, 1, 2],\n",
       "       [3, 4, 5],\n",
       "       [6, 7, 8]])"
      ]
     },
     "execution_count": 4,
     "metadata": {},
     "output_type": "execute_result"
    }
   ],
   "source": [
    "# ваш код здесь\n",
    "matrix_np = np.arange(0,9).reshape(3,3)\n",
    "matrix_np\n"
   ]
  },
  {
   "cell_type": "markdown",
   "metadata": {
    "id": "J1DcRIvkon9F"
   },
   "source": [
    "4. Создайте массив 3x3x3 со случайными значениями."
   ]
  },
  {
   "cell_type": "code",
   "execution_count": 5,
   "metadata": {
    "id": "_vcjs45couIe"
   },
   "outputs": [
    {
     "data": {
      "text/plain": [
       "array([[66, 55, 35],\n",
       "       [80, 30, 34],\n",
       "       [11, 54, 50]])"
      ]
     },
     "execution_count": 5,
     "metadata": {},
     "output_type": "execute_result"
    }
   ],
   "source": [
    "# ваш код здесь\n",
    "np.random.randint(0, 150, size=(3, 3))"
   ]
  },
  {
   "cell_type": "markdown",
   "metadata": {
    "id": "YrfZeAw6opem"
   },
   "source": [
    "5. Создайте матрицу 10x10 с 0 внутри и 1 на границах."
   ]
  },
  {
   "cell_type": "code",
   "execution_count": 6,
   "metadata": {
    "id": "n5Zdwpdwoush"
   },
   "outputs": [
    {
     "data": {
      "text/plain": [
       "array([[1., 0., 0., 0., 0., 0., 0., 0., 0., 0.],\n",
       "       [0., 0., 0., 0., 0., 0., 0., 0., 0., 0.],\n",
       "       [0., 0., 0., 0., 0., 0., 0., 0., 0., 0.],\n",
       "       [0., 0., 0., 0., 0., 0., 0., 0., 0., 0.],\n",
       "       [0., 0., 0., 0., 0., 0., 0., 0., 0., 0.],\n",
       "       [0., 0., 0., 0., 0., 0., 0., 0., 0., 0.],\n",
       "       [0., 0., 0., 0., 0., 0., 0., 0., 0., 0.],\n",
       "       [0., 0., 0., 0., 0., 0., 0., 0., 0., 0.],\n",
       "       [0., 0., 0., 0., 0., 0., 0., 0., 0., 0.],\n",
       "       [0., 0., 0., 0., 0., 0., 0., 0., 0., 1.]])"
      ]
     },
     "execution_count": 6,
     "metadata": {},
     "output_type": "execute_result"
    }
   ],
   "source": [
    "# ваш код здесь\n",
    "array_np = np.zeros(10*10)\n",
    "array_np[0], array_np[-1] = 1, 1\n",
    "array_np.reshape(10, 10)"
   ]
  },
  {
   "cell_type": "code",
   "execution_count": 10,
   "metadata": {},
   "outputs": [
    {
     "data": {
      "text/plain": [
       "array([[1., 1., 1., 1., 1., 1., 1., 1., 1., 1.],\n",
       "       [1., 0., 0., 0., 0., 0., 0., 0., 0., 1.],\n",
       "       [1., 0., 0., 0., 0., 0., 0., 0., 0., 1.],\n",
       "       [1., 0., 0., 0., 0., 0., 0., 0., 0., 1.],\n",
       "       [1., 0., 0., 0., 0., 0., 0., 0., 0., 1.],\n",
       "       [1., 0., 0., 0., 0., 0., 0., 0., 0., 1.],\n",
       "       [1., 0., 0., 0., 0., 0., 0., 0., 0., 1.],\n",
       "       [1., 0., 0., 0., 0., 0., 0., 0., 0., 1.],\n",
       "       [1., 0., 0., 0., 0., 0., 0., 0., 0., 1.],\n",
       "       [1., 1., 1., 1., 1., 1., 1., 1., 1., 1.]])"
      ]
     },
     "execution_count": 10,
     "metadata": {},
     "output_type": "execute_result"
    }
   ],
   "source": [
    "array_np = np.ones(10*10).reshape(10, 10)\n",
    "array_np[1:-1, 1:-1] = 0\n",
    "array_np"
   ]
  },
  {
   "cell_type": "markdown",
   "metadata": {
    "id": "oG-pxHTHorF9"
   },
   "source": [
    "6. Создайте матрицы  5x3 и 3x2 со случайными значениями и перемножьте их."
   ]
  },
  {
   "cell_type": "code",
   "execution_count": 11,
   "metadata": {
    "id": "O4Z4f0xvovJC"
   },
   "outputs": [
    {
     "data": {
      "text/plain": [
       "array([[2140, 2090],\n",
       "       [1528, 1524],\n",
       "       [2358, 2420],\n",
       "       [1452, 1466],\n",
       "       [ 586,  588]])"
      ]
     },
     "execution_count": 11,
     "metadata": {},
     "output_type": "execute_result"
    }
   ],
   "source": [
    "# ваш код здесь\n",
    "matrix_5x3 = np.random.randint(0, 42, size=(5, 3))\n",
    "matrix_3x2 = np.random.randint(0, 42, size=(3, 2))\n",
    "np.dot(matrix_5x3, matrix_3x2)"
   ]
  },
  {
   "cell_type": "markdown",
   "metadata": {
    "id": "0XvhU1pcowfP"
   },
   "source": [
    "Для выполнения задач 7–10 создайте массив 10x10 со значениями от 1 до 100 и все вычисления производите на нём.\n",
    "\n"
   ]
  },
  {
   "cell_type": "code",
   "execution_count": 32,
   "metadata": {},
   "outputs": [
    {
     "data": {
      "text/plain": [
       "array([[  1,   2,   3,   4,   5,   6,   7,   8,   9,  10],\n",
       "       [ 11,  12,  13,  14,  15,  16,  17,  18,  19,  20],\n",
       "       [ 21,  22,  23,  24,  25,  26,  27,  28,  29,  30],\n",
       "       [ 31,  32,  33,  34,  35,  36,  37,  38,  39,  40],\n",
       "       [ 41,  42,  43,  44,  45,  46,  47,  48,  49,  50],\n",
       "       [ 51,  52,  53,  54,  55,  56,  57,  58,  59,  60],\n",
       "       [ 61,  62,  63,  64,  65,  66,  67,  68,  69,  70],\n",
       "       [ 71,  72,  73,  74,  75,  76,  77,  78,  79,  80],\n",
       "       [ 81,  82,  83,  84,  85,  86,  87,  88,  89,  90],\n",
       "       [ 91,  92,  93,  94,  95,  96,  97,  98,  99, 100]])"
      ]
     },
     "execution_count": 32,
     "metadata": {},
     "output_type": "execute_result"
    }
   ],
   "source": [
    "matrix100 = np.arange(1, 101).reshape(10, 10)\n",
    "matrix100"
   ]
  },
  {
   "cell_type": "markdown",
   "metadata": {
    "id": "CRKiFPKoo64r"
   },
   "source": [
    "7. Замените максимальный элемент матрицы на ноль."
   ]
  },
  {
   "cell_type": "code",
   "execution_count": 33,
   "metadata": {
    "id": "Z8_TRbhNpCCQ"
   },
   "outputs": [
    {
     "data": {
      "text/plain": [
       "array([[ 1,  2,  3,  4,  5,  6,  7,  8,  9, 10],\n",
       "       [11, 12, 13, 14, 15, 16, 17, 18, 19, 20],\n",
       "       [21, 22, 23, 24, 25, 26, 27, 28, 29, 30],\n",
       "       [31, 32, 33, 34, 35, 36, 37, 38, 39, 40],\n",
       "       [41, 42, 43, 44, 45, 46, 47, 48, 49, 50],\n",
       "       [51, 52, 53, 54, 55, 56, 57, 58, 59, 60],\n",
       "       [61, 62, 63, 64, 65, 66, 67, 68, 69, 70],\n",
       "       [71, 72, 73, 74, 75, 76, 77, 78, 79, 80],\n",
       "       [81, 82, 83, 84, 85, 86, 87, 88, 89, 90],\n",
       "       [91, 92, 93, 94, 95, 96, 97, 98, 99,  0]])"
      ]
     },
     "execution_count": 33,
     "metadata": {},
     "output_type": "execute_result"
    }
   ],
   "source": [
    "# ваш код здесь\n",
    "matrix100[matrix100==matrix100.max()] = 0\n",
    "matrix100"
   ]
  },
  {
   "cell_type": "markdown",
   "metadata": {
    "id": "uWij1Utbo9Li"
   },
   "source": [
    "8. Отнимите среднее из каждой строки в матрице."
   ]
  },
  {
   "cell_type": "code",
   "execution_count": 34,
   "metadata": {
    "id": "R4ra66HNpCf7"
   },
   "outputs": [
    {
     "data": {
      "text/plain": [
       "array([[ -4,  -3,  -1,   0,   1,   2,   4,   5,   6,   8],\n",
       "       [ -4,  -2,   0,   2,   4,   7,   8,  10,  12,  14],\n",
       "       [ -4,  -1,   2,   5,   8,  11,  13,  15,  18,  20],\n",
       "       [ -4,   0,   4,   8,  11,  15,  18,  21,  23,  26],\n",
       "       [ -4,   1,   6,  10,  15,  19,  22,  26,  29,  32],\n",
       "       [ -4,   2,   8,  13,  18,  23,  27,  31,  35,  38],\n",
       "       [ -4,   3,   9,  16,  22,  27,  32,  36,  41,  44],\n",
       "       [ -4,   4,  11,  19,  25,  31,  37,  42,  46,  50],\n",
       "       [ -4,   5,  13,  21,  29,  35,  41,  47,  52,  57],\n",
       "       [  5,  15,  23,  31,  39,  45,  51,  57,  62, -32]])"
      ]
     },
     "execution_count": 34,
     "metadata": {},
     "output_type": "execute_result"
    }
   ],
   "source": [
    "# ваш код здесь\n",
    "for ir, row in enumerate(matrix100):\n",
    "    for iv, value in enumerate(row):\n",
    "        matrix100[ir, iv] = matrix100[ir, iv] - row.mean()\n",
    "matrix100\n",
    "# matrix100 - matrix100.mean()"
   ]
  },
  {
   "cell_type": "markdown",
   "metadata": {
    "id": "Rv5b6eNto-yK"
   },
   "source": [
    "9. Посчитайте сумму по последним двум осям."
   ]
  },
  {
   "cell_type": "code",
   "execution_count": 35,
   "metadata": {
    "id": "qh-NFJc7pDGF"
   },
   "outputs": [
    {
     "data": {
      "text/plain": [
       "array([296, 296])"
      ]
     },
     "execution_count": 35,
     "metadata": {},
     "output_type": "execute_result"
    }
   ],
   "source": [
    "# ваш код здесь\n",
    "matrix100[-2:].sum(axis=1)"
   ]
  },
  {
   "cell_type": "markdown",
   "metadata": {
    "id": "-XWpSOtSpAHW"
   },
   "source": [
    "10. Поменяйте две строки в матрице."
   ]
  },
  {
   "cell_type": "code",
   "execution_count": 36,
   "metadata": {
    "id": "BKUANcMOpDrA"
   },
   "outputs": [
    {
     "data": {
      "text/plain": [
       "array([[  5,  15,  23,  31,  39,  45,  51,  57,  62, -32],\n",
       "       [ -4,  -2,   0,   2,   4,   7,   8,  10,  12,  14],\n",
       "       [ -4,  -1,   2,   5,   8,  11,  13,  15,  18,  20],\n",
       "       [ -4,   0,   4,   8,  11,  15,  18,  21,  23,  26],\n",
       "       [ -4,   1,   6,  10,  15,  19,  22,  26,  29,  32],\n",
       "       [ -4,   2,   8,  13,  18,  23,  27,  31,  35,  38],\n",
       "       [ -4,   3,   9,  16,  22,  27,  32,  36,  41,  44],\n",
       "       [ -4,   4,  11,  19,  25,  31,  37,  42,  46,  50],\n",
       "       [ -4,   5,  13,  21,  29,  35,  41,  47,  52,  57],\n",
       "       [ -4,  -3,  -1,   0,   1,   2,   4,   5,   6,   8]])"
      ]
     },
     "execution_count": 36,
     "metadata": {},
     "output_type": "execute_result"
    }
   ],
   "source": [
    "# ваш код здесь\n",
    "matrix100[[0,9]] = matrix100[[9,0]]\n",
    "matrix100"
   ]
  },
  {
   "cell_type": "markdown",
   "metadata": {
    "id": "8zWUuIOL_jyo"
   },
   "source": [
    "|"
   ]
  },
  {
   "cell_type": "markdown",
   "metadata": {
    "id": "MSbNR9zl_lYv"
   },
   "source": [
    "|"
   ]
  },
  {
   "cell_type": "markdown",
   "metadata": {
    "id": "gmfCAgrM_lla"
   },
   "source": [
    "|"
   ]
  },
  {
   "cell_type": "markdown",
   "metadata": {
    "id": "_tASN9BU_l1S"
   },
   "source": [
    "|"
   ]
  },
  {
   "cell_type": "markdown",
   "metadata": {
    "id": "FL2Y-tPf_mBi"
   },
   "source": [
    "|"
   ]
  },
  {
   "cell_type": "markdown",
   "metadata": {
    "id": "LBda-jeb_mW9"
   },
   "source": [
    "|"
   ]
  },
  {
   "cell_type": "markdown",
   "metadata": {
    "id": "KqA6kmoN_mhI"
   },
   "source": [
    "|"
   ]
  },
  {
   "cell_type": "markdown",
   "metadata": {
    "id": "R8XwscHm_mp6"
   },
   "source": [
    "|"
   ]
  },
  {
   "cell_type": "markdown",
   "metadata": {
    "id": "LnTVMDp5_mzc"
   },
   "source": [
    "|"
   ]
  },
  {
   "cell_type": "markdown",
   "metadata": {
    "id": "YeI2QEV3_m8H"
   },
   "source": [
    "|"
   ]
  },
  {
   "cell_type": "markdown",
   "metadata": {
    "id": "vxm8mpkt_nF5"
   },
   "source": [
    "|"
   ]
  },
  {
   "cell_type": "markdown",
   "metadata": {
    "id": "NCTsTOXN_WQs"
   },
   "source": [
    "## Решения"
   ]
  },
  {
   "cell_type": "code",
   "execution_count": null,
   "metadata": {
    "id": "q9Z82X366oRv"
   },
   "outputs": [],
   "source": [
    "import numpy as np"
   ]
  },
  {
   "cell_type": "markdown",
   "metadata": {
    "id": "iknT6tu_7pZw"
   },
   "source": [
    "1. Создать вектор размера 10, заполненный нулями, но пятый элемент которого равен 1."
   ]
  },
  {
   "cell_type": "code",
   "execution_count": null,
   "metadata": {
    "colab": {
     "base_uri": "https://localhost:8080/"
    },
    "executionInfo": {
     "elapsed": 7,
     "status": "ok",
     "timestamp": 1657537505829,
     "user": {
      "displayName": "Маргарита Широбокова",
      "userId": "15867443346324107010"
     },
     "user_tz": -240
    },
    "id": "ctuIc2GG7qlo",
    "outputId": "861675ba-431e-4e46-8e74-01f3578ca81a"
   },
   "outputs": [],
   "source": [
    "A = np.zeros(10)\n",
    "A[5] = 1\n",
    "A"
   ]
  },
  {
   "cell_type": "markdown",
   "metadata": {
    "id": "EDMBbDhO70Ul"
   },
   "source": [
    "2. Создать вектор со значениями от 10 до 49."
   ]
  },
  {
   "cell_type": "code",
   "execution_count": null,
   "metadata": {
    "colab": {
     "base_uri": "https://localhost:8080/"
    },
    "executionInfo": {
     "elapsed": 363,
     "status": "ok",
     "timestamp": 1657537531255,
     "user": {
      "displayName": "Маргарита Широбокова",
      "userId": "15867443346324107010"
     },
     "user_tz": -240
    },
    "id": "JWlCwL-l70on",
    "outputId": "18f3a435-96c2-4034-c93b-463facb739e9"
   },
   "outputs": [],
   "source": [
    "A = np.arange(10, 50)\n",
    "A"
   ]
  },
  {
   "cell_type": "markdown",
   "metadata": {
    "id": "IbN4_30O75Hg"
   },
   "source": [
    "3. Создать матрицу (двумерный массив) 3x3 со значениями от 0 до 8."
   ]
  },
  {
   "cell_type": "code",
   "execution_count": null,
   "metadata": {
    "colab": {
     "base_uri": "https://localhost:8080/"
    },
    "executionInfo": {
     "elapsed": 9,
     "status": "ok",
     "timestamp": 1657537575969,
     "user": {
      "displayName": "Маргарита Широбокова",
      "userId": "15867443346324107010"
     },
     "user_tz": -240
    },
    "id": "SIWP9HQF76lC",
    "outputId": "d1e671bc-47ea-4bf1-eec4-a173f15b3d68"
   },
   "outputs": [],
   "source": [
    "A = np.arange(9)\n",
    "A = np.reshape(A, (3,3))\n",
    "A"
   ]
  },
  {
   "cell_type": "markdown",
   "metadata": {
    "id": "EoMuV2nG8FOS"
   },
   "source": [
    "4. Создать массив 3x3x3 со случайными значениями."
   ]
  },
  {
   "cell_type": "code",
   "execution_count": null,
   "metadata": {
    "colab": {
     "base_uri": "https://localhost:8080/"
    },
    "executionInfo": {
     "elapsed": 356,
     "status": "ok",
     "timestamp": 1657537684506,
     "user": {
      "displayName": "Маргарита Широбокова",
      "userId": "15867443346324107010"
     },
     "user_tz": -240
    },
    "id": "7-p8nLyd8Mml",
    "outputId": "417598a0-0434-4b09-ad28-003d2282d207"
   },
   "outputs": [],
   "source": [
    "A = np.random.randn(27)\n",
    "A = np.reshape(A, (3,3,3)) # не бойтесь брать размерность больше - сам функционал не меняется\n",
    "A"
   ]
  },
  {
   "cell_type": "markdown",
   "metadata": {
    "id": "R-AhCiqH7bVT"
   },
   "source": [
    "5. Создать матрицу 10x10 с 0 внутри и 1 на границах."
   ]
  },
  {
   "cell_type": "code",
   "execution_count": null,
   "metadata": {
    "colab": {
     "base_uri": "https://localhost:8080/"
    },
    "executionInfo": {
     "elapsed": 7,
     "status": "ok",
     "timestamp": 1657537442490,
     "user": {
      "displayName": "Маргарита Широбокова",
      "userId": "15867443346324107010"
     },
     "user_tz": -240
    },
    "id": "_F5CaZnr6oUE",
    "outputId": "3b2c082d-348f-4b9b-af31-7fe1258dacce"
   },
   "outputs": [],
   "source": [
    "A = np.ones([10,10])\n",
    "A [1:-1, 1:-1] = 0\n",
    "A"
   ]
  },
  {
   "cell_type": "markdown",
   "metadata": {
    "id": "l7W2brBF83_0"
   },
   "source": [
    "6. Создать матрицы  5x3 и 3x2 со случайными значениями и перемножить их."
   ]
  },
  {
   "cell_type": "code",
   "execution_count": null,
   "metadata": {
    "colab": {
     "base_uri": "https://localhost:8080/"
    },
    "executionInfo": {
     "elapsed": 396,
     "status": "ok",
     "timestamp": 1657537839438,
     "user": {
      "displayName": "Маргарита Широбокова",
      "userId": "15867443346324107010"
     },
     "user_tz": -240
    },
    "id": "EOoWON8N84iO",
    "outputId": "e98c6234-fd0a-43a7-9d5f-a8ab9cf4ee39"
   },
   "outputs": [],
   "source": [
    "A = np.random.randn(15)\n",
    "A = np.reshape(A, (5,3))\n",
    "A"
   ]
  },
  {
   "cell_type": "code",
   "execution_count": null,
   "metadata": {
    "colab": {
     "base_uri": "https://localhost:8080/"
    },
    "executionInfo": {
     "elapsed": 3,
     "status": "ok",
     "timestamp": 1657537840532,
     "user": {
      "displayName": "Маргарита Широбокова",
      "userId": "15867443346324107010"
     },
     "user_tz": -240
    },
    "id": "hW7CkzfF9ACg",
    "outputId": "2ae48874-8277-4b38-8396-4bbd82f2dad3"
   },
   "outputs": [],
   "source": [
    "B = np.random.randn(6)\n",
    "B = np.reshape(B, (3,2))\n",
    "B"
   ]
  },
  {
   "cell_type": "markdown",
   "metadata": {
    "id": "vkYRl6VS9JRl"
   },
   "source": [
    "В задании не сказано, как перемножать матрицы: поэлементно или согласно правилам матричного перемножения. Так как поэлементное умножение вызовет ошибку, потому что размерности матриц не согласуются, выполним матричное перемножение:"
   ]
  },
  {
   "cell_type": "code",
   "execution_count": null,
   "metadata": {
    "colab": {
     "base_uri": "https://localhost:8080/"
    },
    "executionInfo": {
     "elapsed": 10,
     "status": "ok",
     "timestamp": 1657537934804,
     "user": {
      "displayName": "Маргарита Широбокова",
      "userId": "15867443346324107010"
     },
     "user_tz": -240
    },
    "id": "7alu0yYD9Eqy",
    "outputId": "6ff8d7e3-25f1-4594-e9ea-424b7be75ecb"
   },
   "outputs": [],
   "source": [
    "np.dot(A, B)"
   ]
  },
  {
   "cell_type": "markdown",
   "metadata": {
    "id": "sDqzM6Gi9elx"
   },
   "source": [
    "|"
   ]
  },
  {
   "cell_type": "markdown",
   "metadata": {
    "id": "zFXChdIy8qAz"
   },
   "source": [
    "Создать массив 10x10 со значениями от 1 до 100."
   ]
  },
  {
   "cell_type": "code",
   "execution_count": 15,
   "metadata": {
    "colab": {
     "base_uri": "https://localhost:8080/"
    },
    "executionInfo": {
     "elapsed": 77,
     "status": "ok",
     "timestamp": 1657538241343,
     "user": {
      "displayName": "Маргарита Широбокова",
      "userId": "15867443346324107010"
     },
     "user_tz": -240
    },
    "id": "TF6bOPfD8t36",
    "outputId": "d8bbfc0a-2ffc-488c-d507-797802680069"
   },
   "outputs": [
    {
     "data": {
      "text/plain": [
       "array([[  1,   2,   3,   4,   5,   6,   7,   8,   9,  10],\n",
       "       [ 11,  12,  13,  14,  15,  16,  17,  18,  19,  20],\n",
       "       [ 21,  22,  23,  24,  25,  26,  27,  28,  29,  30],\n",
       "       [ 31,  32,  33,  34,  35,  36,  37,  38,  39,  40],\n",
       "       [ 41,  42,  43,  44,  45,  46,  47,  48,  49,  50],\n",
       "       [ 51,  52,  53,  54,  55,  56,  57,  58,  59,  60],\n",
       "       [ 61,  62,  63,  64,  65,  66,  67,  68,  69,  70],\n",
       "       [ 71,  72,  73,  74,  75,  76,  77,  78,  79,  80],\n",
       "       [ 81,  82,  83,  84,  85,  86,  87,  88,  89,  90],\n",
       "       [ 91,  92,  93,  94,  95,  96,  97,  98,  99, 100]])"
      ]
     },
     "execution_count": 15,
     "metadata": {},
     "output_type": "execute_result"
    }
   ],
   "source": [
    "A = np.arange(1,101)\n",
    "A = np.reshape(A, (10,10))\n",
    "A"
   ]
  },
  {
   "cell_type": "markdown",
   "metadata": {
    "id": "KXgPmQ5e9yF6"
   },
   "source": [
    "7. Заменить максимальный элемент матрицы на ноль."
   ]
  },
  {
   "cell_type": "code",
   "execution_count": 16,
   "metadata": {
    "colab": {
     "base_uri": "https://localhost:8080/"
    },
    "executionInfo": {
     "elapsed": 361,
     "status": "ok",
     "timestamp": 1657538261961,
     "user": {
      "displayName": "Маргарита Широбокова",
      "userId": "15867443346324107010"
     },
     "user_tz": -240
    },
    "id": "ojAZ3iXo9yeO",
    "outputId": "38b4f2e3-30f3-4206-9df4-e9daa11661e9"
   },
   "outputs": [
    {
     "data": {
      "text/plain": [
       "array([[ 1,  2,  3,  4,  5,  6,  7,  8,  9, 10],\n",
       "       [11, 12, 13, 14, 15, 16, 17, 18, 19, 20],\n",
       "       [21, 22, 23, 24, 25, 26, 27, 28, 29, 30],\n",
       "       [31, 32, 33, 34, 35, 36, 37, 38, 39, 40],\n",
       "       [41, 42, 43, 44, 45, 46, 47, 48, 49, 50],\n",
       "       [51, 52, 53, 54, 55, 56, 57, 58, 59, 60],\n",
       "       [61, 62, 63, 64, 65, 66, 67, 68, 69, 70],\n",
       "       [71, 72, 73, 74, 75, 76, 77, 78, 79, 80],\n",
       "       [81, 82, 83, 84, 85, 86, 87, 88, 89, 90],\n",
       "       [91, 92, 93, 94, 95, 96, 97, 98, 99,  0]])"
      ]
     },
     "execution_count": 16,
     "metadata": {},
     "output_type": "execute_result"
    }
   ],
   "source": [
    "A[A == A.max()] = 0\n",
    "A"
   ]
  },
  {
   "cell_type": "markdown",
   "metadata": {
    "id": "wlIBv7eB-Cm9"
   },
   "source": [
    "8. Отнять среднее из каждой строки в матрице."
   ]
  },
  {
   "cell_type": "code",
   "execution_count": 17,
   "metadata": {
    "colab": {
     "base_uri": "https://localhost:8080/"
    },
    "executionInfo": {
     "elapsed": 419,
     "status": "ok",
     "timestamp": 1657538265630,
     "user": {
      "displayName": "Маргарита Широбокова",
      "userId": "15867443346324107010"
     },
     "user_tz": -240
    },
    "id": "L85bzdwN-CKE",
    "outputId": "7d76080f-929e-478e-fd72-e6d5b1c1a3db"
   },
   "outputs": [
    {
     "data": {
      "text/plain": [
       "array([[-48.5, -47.5, -46.5, -45.5, -44.5, -43.5, -42.5, -41.5, -40.5,\n",
       "        -39.5],\n",
       "       [-38.5, -37.5, -36.5, -35.5, -34.5, -33.5, -32.5, -31.5, -30.5,\n",
       "        -29.5],\n",
       "       [-28.5, -27.5, -26.5, -25.5, -24.5, -23.5, -22.5, -21.5, -20.5,\n",
       "        -19.5],\n",
       "       [-18.5, -17.5, -16.5, -15.5, -14.5, -13.5, -12.5, -11.5, -10.5,\n",
       "         -9.5],\n",
       "       [ -8.5,  -7.5,  -6.5,  -5.5,  -4.5,  -3.5,  -2.5,  -1.5,  -0.5,\n",
       "          0.5],\n",
       "       [  1.5,   2.5,   3.5,   4.5,   5.5,   6.5,   7.5,   8.5,   9.5,\n",
       "         10.5],\n",
       "       [ 11.5,  12.5,  13.5,  14.5,  15.5,  16.5,  17.5,  18.5,  19.5,\n",
       "         20.5],\n",
       "       [ 21.5,  22.5,  23.5,  24.5,  25.5,  26.5,  27.5,  28.5,  29.5,\n",
       "         30.5],\n",
       "       [ 31.5,  32.5,  33.5,  34.5,  35.5,  36.5,  37.5,  38.5,  39.5,\n",
       "         40.5],\n",
       "       [ 41.5,  42.5,  43.5,  44.5,  45.5,  46.5,  47.5,  48.5,  49.5,\n",
       "        -49.5]])"
      ]
     },
     "execution_count": 17,
     "metadata": {},
     "output_type": "execute_result"
    }
   ],
   "source": [
    "A - A.mean()"
   ]
  },
  {
   "cell_type": "markdown",
   "metadata": {
    "id": "O3rzv1Lk-KUN"
   },
   "source": [
    "9. Посчитать сумму по последним двум строкам."
   ]
  },
  {
   "cell_type": "code",
   "execution_count": 23,
   "metadata": {
    "colab": {
     "base_uri": "https://localhost:8080/"
    },
    "executionInfo": {
     "elapsed": 9,
     "status": "ok",
     "timestamp": 1657538302814,
     "user": {
      "displayName": "Маргарита Широбокова",
      "userId": "15867443346324107010"
     },
     "user_tz": -240
    },
    "id": "0eoFBghh-Kyc",
    "outputId": "017bab20-346e-42db-99da-d19a94f37c16"
   },
   "outputs": [
    {
     "data": {
      "text/plain": [
       "array([855, 855])"
      ]
     },
     "execution_count": 23,
     "metadata": {},
     "output_type": "execute_result"
    }
   ],
   "source": [
    "A[-2:].sum(axis=1)"
   ]
  },
  {
   "cell_type": "markdown",
   "metadata": {
    "id": "-YfWoJp2-5Wt"
   },
   "source": [
    "10. Поменять две строки в матрице."
   ]
  },
  {
   "cell_type": "markdown",
   "metadata": {
    "id": "sc-zENX7_ELX"
   },
   "source": [
    "Поменяем первую и последнюю строки:"
   ]
  },
  {
   "cell_type": "code",
   "execution_count": null,
   "metadata": {
    "colab": {
     "base_uri": "https://localhost:8080/"
    },
    "executionInfo": {
     "elapsed": 9,
     "status": "ok",
     "timestamp": 1657538411240,
     "user": {
      "displayName": "Маргарита Широбокова",
      "userId": "15867443346324107010"
     },
     "user_tz": -240
    },
    "id": "qEQP1lor_HSE",
    "outputId": "f3cd5736-a30e-47ed-b891-846a06be92db"
   },
   "outputs": [],
   "source": [
    "A[[0,9]] = A[[9,0]]\n",
    "A"
   ]
  },
  {
   "cell_type": "code",
   "execution_count": null,
   "metadata": {
    "id": "MptKTCvRPd9C"
   },
   "outputs": [],
   "source": []
  }
 ],
 "metadata": {
  "colab": {
   "collapsed_sections": [],
   "name": "Модуль 7. Практическая работа.ipynb",
   "provenance": []
  },
  "kernelspec": {
   "display_name": "Python 3 (ipykernel)",
   "language": "python",
   "name": "python3"
  },
  "language_info": {
   "codemirror_mode": {
    "name": "ipython",
    "version": 3
   },
   "file_extension": ".py",
   "mimetype": "text/x-python",
   "name": "python",
   "nbconvert_exporter": "python",
   "pygments_lexer": "ipython3",
   "version": "3.11.5"
  }
 },
 "nbformat": 4,
 "nbformat_minor": 4
}
