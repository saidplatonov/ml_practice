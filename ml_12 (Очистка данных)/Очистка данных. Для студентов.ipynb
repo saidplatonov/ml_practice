{
 "cells": [
  {
   "cell_type": "markdown",
   "metadata": {
    "id": "o6I4n4hwCgV5"
   },
   "source": [
    "# Очистка данных. Практическая работа"
   ]
  },
  {
   "cell_type": "markdown",
   "metadata": {
    "id": "7TcMEEhWCmMs"
   },
   "source": [
    "## Цель практической работы\n",
    "\n",
    "- Научиться выполнять очистку и подготовку данных для их дальнейшего использования в задаче машинного обучения."
   ]
  },
  {
   "cell_type": "markdown",
   "metadata": {
    "id": "X_F8J_bWDsJz"
   },
   "source": [
    "## Что нужно сделать\n",
    "\n",
    "- Загрузить данные в ноутбук.\n",
    "- Провести разведочный анализ данных.\n",
    "- Разделить данные на обучающую и тестовую выборки.\n",
    "- Выполнить очистку и подготовку данных."
   ]
  },
  {
   "cell_type": "markdown",
   "metadata": {
    "id": "K2Db_0pXEqka"
   },
   "source": [
    "## Что оценивается \n",
    "\n",
    "1. Выполнены все этапы задания.\n",
    "1. Не допущены утечки данных."
   ]
  },
  {
   "cell_type": "markdown",
   "metadata": {
    "id": "vwpxmizHGXPE"
   },
   "source": [
    "## Формат сдачи\n",
    "\n",
    "Выполните предложенные задания: впишите свой код в ячейки после комментария `### YOUR CODE HERE ###` и сохраните изменения, используя опцию *Save and Checkpoint* из вкладки меню *File* или кнопку *Save and Checkpoint* на панели инструментов. Итоговый файл в формате `.ipynb` (файл Jupyter Notebook) загрузите в личный кабинет и отправьте на проверку."
   ]
  },
  {
   "cell_type": "markdown",
   "metadata": {
    "id": "CUhKZgVsFEkk"
   },
   "source": [
    "## Задача\n",
    "Имеется набор данных покупателей супермаркета. Проведите анализ и очистку этих данных."
   ]
  },
  {
   "cell_type": "markdown",
   "metadata": {
    "id": "MMergpE8Fj8-"
   },
   "source": [
    "### Описание данных\n",
    "\n",
    "Дан файл Mall_Customers.csv, содержащий следующие данные по покупателям сети супермаркетов:\n",
    "- CustomerID — идентификатор покупателя.\n",
    "- Genre – пол покупателя.\n",
    "- Age – возраст покупателя.\n",
    "- Annual Income (k\\$) – годовой доход покупателя, тысяч $.\n",
    "- Spending Score (1–100) – рейтинг покупателя, целевая переменная."
   ]
  },
  {
   "cell_type": "markdown",
   "metadata": {
    "id": "9pfNcyY_FoV7"
   },
   "source": [
    "### Задание 1\n",
    "\n",
    "Загрузите данные из файла `Mall_Customers.csv` в ноутбук и выведите первые пять строк на экран."
   ]
  },
  {
   "cell_type": "code",
   "execution_count": 1,
   "metadata": {
    "id": "9Q82jW1UCjGi"
   },
   "outputs": [
    {
     "data": {
      "text/html": [
       "<div>\n",
       "<style scoped>\n",
       "    .dataframe tbody tr th:only-of-type {\n",
       "        vertical-align: middle;\n",
       "    }\n",
       "\n",
       "    .dataframe tbody tr th {\n",
       "        vertical-align: top;\n",
       "    }\n",
       "\n",
       "    .dataframe thead th {\n",
       "        text-align: right;\n",
       "    }\n",
       "</style>\n",
       "<table border=\"1\" class=\"dataframe\">\n",
       "  <thead>\n",
       "    <tr style=\"text-align: right;\">\n",
       "      <th></th>\n",
       "      <th>CustomerID</th>\n",
       "      <th>Genre</th>\n",
       "      <th>Age</th>\n",
       "      <th>Annual Income (k$)</th>\n",
       "      <th>Spending Score (1-100)</th>\n",
       "    </tr>\n",
       "  </thead>\n",
       "  <tbody>\n",
       "    <tr>\n",
       "      <th>0</th>\n",
       "      <td>1</td>\n",
       "      <td>Male</td>\n",
       "      <td>19.0</td>\n",
       "      <td>15.0</td>\n",
       "      <td>39</td>\n",
       "    </tr>\n",
       "    <tr>\n",
       "      <th>1</th>\n",
       "      <td>2</td>\n",
       "      <td>Male</td>\n",
       "      <td>NaN</td>\n",
       "      <td>NaN</td>\n",
       "      <td>81</td>\n",
       "    </tr>\n",
       "    <tr>\n",
       "      <th>2</th>\n",
       "      <td>3</td>\n",
       "      <td>Female</td>\n",
       "      <td>NaN</td>\n",
       "      <td>16.0</td>\n",
       "      <td>6</td>\n",
       "    </tr>\n",
       "    <tr>\n",
       "      <th>3</th>\n",
       "      <td>4</td>\n",
       "      <td>Female</td>\n",
       "      <td>23.0</td>\n",
       "      <td>16.0</td>\n",
       "      <td>77</td>\n",
       "    </tr>\n",
       "    <tr>\n",
       "      <th>4</th>\n",
       "      <td>5</td>\n",
       "      <td>Female</td>\n",
       "      <td>31.0</td>\n",
       "      <td>17.0</td>\n",
       "      <td>40</td>\n",
       "    </tr>\n",
       "    <tr>\n",
       "      <th>...</th>\n",
       "      <td>...</td>\n",
       "      <td>...</td>\n",
       "      <td>...</td>\n",
       "      <td>...</td>\n",
       "      <td>...</td>\n",
       "    </tr>\n",
       "    <tr>\n",
       "      <th>195</th>\n",
       "      <td>196</td>\n",
       "      <td>Female</td>\n",
       "      <td>35.0</td>\n",
       "      <td>120.0</td>\n",
       "      <td>79</td>\n",
       "    </tr>\n",
       "    <tr>\n",
       "      <th>196</th>\n",
       "      <td>197</td>\n",
       "      <td>Female</td>\n",
       "      <td>45.0</td>\n",
       "      <td>126.0</td>\n",
       "      <td>28</td>\n",
       "    </tr>\n",
       "    <tr>\n",
       "      <th>197</th>\n",
       "      <td>198</td>\n",
       "      <td>Male</td>\n",
       "      <td>32.0</td>\n",
       "      <td>126.0</td>\n",
       "      <td>74</td>\n",
       "    </tr>\n",
       "    <tr>\n",
       "      <th>198</th>\n",
       "      <td>199</td>\n",
       "      <td>Male</td>\n",
       "      <td>NaN</td>\n",
       "      <td>137.0</td>\n",
       "      <td>18</td>\n",
       "    </tr>\n",
       "    <tr>\n",
       "      <th>199</th>\n",
       "      <td>200</td>\n",
       "      <td>NaN</td>\n",
       "      <td>30.0</td>\n",
       "      <td>137.0</td>\n",
       "      <td>83</td>\n",
       "    </tr>\n",
       "  </tbody>\n",
       "</table>\n",
       "<p>200 rows × 5 columns</p>\n",
       "</div>"
      ],
      "text/plain": [
       "     CustomerID   Genre   Age  Annual Income (k$)  Spending Score (1-100)\n",
       "0             1    Male  19.0                15.0                      39\n",
       "1             2    Male   NaN                 NaN                      81\n",
       "2             3  Female   NaN                16.0                       6\n",
       "3             4  Female  23.0                16.0                      77\n",
       "4             5  Female  31.0                17.0                      40\n",
       "..          ...     ...   ...                 ...                     ...\n",
       "195         196  Female  35.0               120.0                      79\n",
       "196         197  Female  45.0               126.0                      28\n",
       "197         198    Male  32.0               126.0                      74\n",
       "198         199    Male   NaN               137.0                      18\n",
       "199         200     NaN  30.0               137.0                      83\n",
       "\n",
       "[200 rows x 5 columns]"
      ]
     },
     "execution_count": 1,
     "metadata": {},
     "output_type": "execute_result"
    }
   ],
   "source": [
    "### YOUR CODE HERE ###\n",
    "import pandas as pd\n",
    "\n",
    "df = pd.read_csv(\"./Mall_Customers.csv\")\n",
    "df"
   ]
  },
  {
   "cell_type": "code",
   "execution_count": null,
   "metadata": {},
   "outputs": [],
   "source": []
  },
  {
   "cell_type": "markdown",
   "metadata": {
    "id": "dZ6Tm3koGft2"
   },
   "source": [
    "### Задание 2\n",
    "\n",
    "Проведите разведочный анализ загруженных данных. Обязательные атрибуты для анализа:\n",
    "- количество пропусков в каждом признаке;\n",
    "- распределения признаков;\n",
    "- возможные выбросы или аномалии.\n",
    "\n",
    "Анализ дополнительных атрибутов и свойств данных приветствуется. Используйте средства визуализации там, где это необходимо.\n",
    "\n",
    "По результатам анализа сделайте выводы о свойствах отдельных признаков и качестве данных в целом."
   ]
  },
  {
   "cell_type": "code",
   "execution_count": 2,
   "metadata": {
    "id": "zczQG5MoHulI"
   },
   "outputs": [
    {
     "name": "stdout",
     "output_type": "stream",
     "text": [
      "<class 'pandas.core.frame.DataFrame'>\n",
      "RangeIndex: 200 entries, 0 to 199\n",
      "Data columns (total 5 columns):\n",
      " #   Column                  Non-Null Count  Dtype  \n",
      "---  ------                  --------------  -----  \n",
      " 0   CustomerID              200 non-null    int64  \n",
      " 1   Genre                   181 non-null    object \n",
      " 2   Age                     180 non-null    float64\n",
      " 3   Annual Income (k$)      180 non-null    float64\n",
      " 4   Spending Score (1-100)  200 non-null    int64  \n",
      "dtypes: float64(2), int64(2), object(1)\n",
      "memory usage: 7.9+ KB\n"
     ]
    }
   ],
   "source": [
    "### YOUR CODE HERE ###\n",
    "df.info()\n"
   ]
  },
  {
   "cell_type": "code",
   "execution_count": 3,
   "metadata": {},
   "outputs": [
    {
     "name": "stdout",
     "output_type": "stream",
     "text": [
      "В поле Genre есть ошибочно заполненные значения \"Feemale\", при обработке стоит их исправить на Female\n"
     ]
    },
    {
     "data": {
      "text/plain": [
       "Genre\n",
       "Female     102\n",
       "Male        77\n",
       "Feemale      2\n",
       "Name: count, dtype: int64"
      ]
     },
     "execution_count": 3,
     "metadata": {},
     "output_type": "execute_result"
    }
   ],
   "source": [
    "\n",
    "print(\"В поле Genre есть ошибочно заполненные значения \\\"Feemale\\\", при обработке стоит их исправить на Female\")\n",
    "df['Genre'].value_counts()"
   ]
  },
  {
   "cell_type": "code",
   "execution_count": 4,
   "metadata": {},
   "outputs": [
    {
     "data": {
      "text/html": [
       "<div>\n",
       "<style scoped>\n",
       "    .dataframe tbody tr th:only-of-type {\n",
       "        vertical-align: middle;\n",
       "    }\n",
       "\n",
       "    .dataframe tbody tr th {\n",
       "        vertical-align: top;\n",
       "    }\n",
       "\n",
       "    .dataframe thead th {\n",
       "        text-align: right;\n",
       "    }\n",
       "</style>\n",
       "<table border=\"1\" class=\"dataframe\">\n",
       "  <thead>\n",
       "    <tr style=\"text-align: right;\">\n",
       "      <th></th>\n",
       "      <th>Age</th>\n",
       "      <th>Annual Income (k$)</th>\n",
       "      <th>Spending Score (1-100)</th>\n",
       "    </tr>\n",
       "  </thead>\n",
       "  <tbody>\n",
       "    <tr>\n",
       "      <th>count</th>\n",
       "      <td>180.000000</td>\n",
       "      <td>180.000000</td>\n",
       "      <td>200.000000</td>\n",
       "    </tr>\n",
       "    <tr>\n",
       "      <th>mean</th>\n",
       "      <td>39.894444</td>\n",
       "      <td>5615.433333</td>\n",
       "      <td>50.200000</td>\n",
       "    </tr>\n",
       "    <tr>\n",
       "      <th>std</th>\n",
       "      <td>16.842848</td>\n",
       "      <td>74531.115872</td>\n",
       "      <td>25.823522</td>\n",
       "    </tr>\n",
       "    <tr>\n",
       "      <th>min</th>\n",
       "      <td>18.000000</td>\n",
       "      <td>15.000000</td>\n",
       "      <td>1.000000</td>\n",
       "    </tr>\n",
       "    <tr>\n",
       "      <th>25%</th>\n",
       "      <td>29.000000</td>\n",
       "      <td>42.000000</td>\n",
       "      <td>34.750000</td>\n",
       "    </tr>\n",
       "    <tr>\n",
       "      <th>50%</th>\n",
       "      <td>36.000000</td>\n",
       "      <td>61.000000</td>\n",
       "      <td>50.000000</td>\n",
       "    </tr>\n",
       "    <tr>\n",
       "      <th>75%</th>\n",
       "      <td>49.000000</td>\n",
       "      <td>78.000000</td>\n",
       "      <td>73.000000</td>\n",
       "    </tr>\n",
       "    <tr>\n",
       "      <th>max</th>\n",
       "      <td>135.000000</td>\n",
       "      <td>1000000.000000</td>\n",
       "      <td>99.000000</td>\n",
       "    </tr>\n",
       "  </tbody>\n",
       "</table>\n",
       "</div>"
      ],
      "text/plain": [
       "              Age  Annual Income (k$)  Spending Score (1-100)\n",
       "count  180.000000          180.000000              200.000000\n",
       "mean    39.894444         5615.433333               50.200000\n",
       "std     16.842848        74531.115872               25.823522\n",
       "min     18.000000           15.000000                1.000000\n",
       "25%     29.000000           42.000000               34.750000\n",
       "50%     36.000000           61.000000               50.000000\n",
       "75%     49.000000           78.000000               73.000000\n",
       "max    135.000000      1000000.000000               99.000000"
      ]
     },
     "execution_count": 4,
     "metadata": {},
     "output_type": "execute_result"
    }
   ],
   "source": [
    "num_col = ['Age', 'Annual Income (k$)', 'Spending Score (1-100)']\n",
    "df[num_col].describe()"
   ]
  },
  {
   "cell_type": "code",
   "execution_count": 5,
   "metadata": {},
   "outputs": [],
   "source": [
    "import matplotlib.pyplot as plt"
   ]
  },
  {
   "cell_type": "code",
   "execution_count": 6,
   "metadata": {},
   "outputs": [
    {
     "name": "stdout",
     "output_type": "stream",
     "text": [
      "Histogram to Age\n"
     ]
    },
    {
     "data": {
      "image/png": "[encoded data removed]",
      "text/plain": [
       "<Figure size 640x480 with 1 Axes>"
      ]
     },
     "metadata": {},
     "output_type": "display_data"
    },
    {
     "name": "stdout",
     "output_type": "stream",
     "text": [
      "Histogram to Annual Income (k$)\n"
     ]
    },
    {
     "data": {
      "image/png": "[encoded data removed]",
      "text/plain": [
       "<Figure size 640x480 with 1 Axes>"
      ]
     },
     "metadata": {},
     "output_type": "display_data"
    },
    {
     "name": "stdout",
     "output_type": "stream",
     "text": [
      "Histogram to Spending Score (1-100)\n"
     ]
    },
    {
     "data": {
      "image/png": "[encoded data removed]",
      "text/plain": [
       "<Figure size 640x480 with 1 Axes>"
      ]
     },
     "metadata": {},
     "output_type": "display_data"
    }
   ],
   "source": [
    "# df[num_col].hist(bins=50)\n",
    "for col in num_col:\n",
    "    print(f\"Histogram to {col}\")\n",
    "    df[col].hist(bins=100)    \n",
    "    plt.show()"
   ]
  },
  {
   "cell_type": "code",
   "execution_count": 7,
   "metadata": {},
   "outputs": [
    {
     "data": {
      "text/html": [
       "<div>\n",
       "<style scoped>\n",
       "    .dataframe tbody tr th:only-of-type {\n",
       "        vertical-align: middle;\n",
       "    }\n",
       "\n",
       "    .dataframe tbody tr th {\n",
       "        vertical-align: top;\n",
       "    }\n",
       "\n",
       "    .dataframe thead th {\n",
       "        text-align: right;\n",
       "    }\n",
       "</style>\n",
       "<table border=\"1\" class=\"dataframe\">\n",
       "  <thead>\n",
       "    <tr style=\"text-align: right;\">\n",
       "      <th></th>\n",
       "      <th>Annual Income (k$)</th>\n",
       "    </tr>\n",
       "  </thead>\n",
       "  <tbody>\n",
       "    <tr>\n",
       "      <th>156</th>\n",
       "      <td>1000000.0</td>\n",
       "    </tr>\n",
       "    <tr>\n",
       "      <th>188</th>\n",
       "      <td>103.0</td>\n",
       "    </tr>\n",
       "    <tr>\n",
       "      <th>189</th>\n",
       "      <td>103.0</td>\n",
       "    </tr>\n",
       "    <tr>\n",
       "      <th>190</th>\n",
       "      <td>103.0</td>\n",
       "    </tr>\n",
       "    <tr>\n",
       "      <th>191</th>\n",
       "      <td>103.0</td>\n",
       "    </tr>\n",
       "    <tr>\n",
       "      <th>193</th>\n",
       "      <td>113.0</td>\n",
       "    </tr>\n",
       "    <tr>\n",
       "      <th>194</th>\n",
       "      <td>120.0</td>\n",
       "    </tr>\n",
       "    <tr>\n",
       "      <th>195</th>\n",
       "      <td>120.0</td>\n",
       "    </tr>\n",
       "    <tr>\n",
       "      <th>196</th>\n",
       "      <td>126.0</td>\n",
       "    </tr>\n",
       "    <tr>\n",
       "      <th>197</th>\n",
       "      <td>126.0</td>\n",
       "    </tr>\n",
       "    <tr>\n",
       "      <th>198</th>\n",
       "      <td>137.0</td>\n",
       "    </tr>\n",
       "    <tr>\n",
       "      <th>199</th>\n",
       "      <td>137.0</td>\n",
       "    </tr>\n",
       "  </tbody>\n",
       "</table>\n",
       "</div>"
      ],
      "text/plain": [
       "     Annual Income (k$)\n",
       "156           1000000.0\n",
       "188               103.0\n",
       "189               103.0\n",
       "190               103.0\n",
       "191               103.0\n",
       "193               113.0\n",
       "194               120.0\n",
       "195               120.0\n",
       "196               126.0\n",
       "197               126.0\n",
       "198               137.0\n",
       "199               137.0"
      ]
     },
     "execution_count": 7,
     "metadata": {},
     "output_type": "execute_result"
    }
   ],
   "source": [
    "df.loc[df['Annual Income (k$)']>100, ['Annual Income (k$)']]"
   ]
  },
  {
   "cell_type": "code",
   "execution_count": 8,
   "metadata": {},
   "outputs": [
    {
     "data": {
      "image/png": "[encoded data removed]",
      "text/plain": [
       "<Figure size 640x480 with 1 Axes>"
      ]
     },
     "metadata": {},
     "output_type": "display_data"
    }
   ],
   "source": [
    "\n",
    "df.loc[df['Annual Income (k$)']<1000, ['Annual Income (k$)']].hist(bins=100)\n",
    "plt.title(\"Annual Income (k$) без аномалии\")\n",
    "plt.show()"
   ]
  },
  {
   "cell_type": "code",
   "execution_count": 9,
   "metadata": {},
   "outputs": [
    {
     "name": "stdout",
     "output_type": "stream",
     "text": [
      "Annual Income (k$)    60.212291\n",
      "dtype: float64\n",
      "61.0\n",
      "Тест что Медиана от исходных данных не сильно отличается от средней без учета Аномалии\n"
     ]
    }
   ],
   "source": [
    "\n",
    "\n",
    "print(df.loc[df['Annual Income (k$)']<1000, ['Annual Income (k$)']].mean())\n",
    "print(df['Annual Income (k$)'].median())\n",
    "print(\"Тест что Медиана от исходных данных не сильно отличается от средней без учета Аномалии\")"
   ]
  },
  {
   "cell_type": "code",
   "execution_count": 10,
   "metadata": {},
   "outputs": [
    {
     "name": "stdout",
     "output_type": "stream",
     "text": [
      "в Age содержатся выбросы - невозможно завышенное значение\n",
      "Annual Income - содержит аномалию, один из покупателей миллиардер\n",
      "в Genre - содержится ошибка Feemale которую можно прировнять к Female\n",
      "в Spending Score (1-100) нормально распределенные нормализованные данные\n"
     ]
    }
   ],
   "source": [
    "print(\"в Age содержатся выбросы - невозможно завышенное значение\\n\"\n",
    "      \"Annual Income - содержит аномалию, один из покупателей миллиардер\\n\"\n",
    "      \"в Genre - содержится ошибка Feemale которую можно прировнять к Female\\n\"\n",
    "      \"в Spending Score (1-100) нормально распределенные нормализованные данные\")"
   ]
  },
  {
   "cell_type": "code",
   "execution_count": 11,
   "metadata": {},
   "outputs": [],
   "source": [
    "# Аномалии и выбросы видны без визуализации boxplot, их мало\n",
    "# for col in num_col:\n",
    "#     df.boxplot(column=col)\n",
    "#     plt.show()\n",
    "# "
   ]
  },
  {
   "cell_type": "code",
   "execution_count": null,
   "metadata": {},
   "outputs": [],
   "source": []
  },
  {
   "cell_type": "markdown",
   "metadata": {
    "id": "f2D8MlDlHvL4"
   },
   "source": [
    "### Задание 3\n",
    "\n",
    "Разделите данные на обучающую и тестовую выборки в пропорции 80:20. Здесь и далее используйте random_state = 1."
   ]
  },
  {
   "cell_type": "code",
   "execution_count": 12,
   "metadata": {
    "id": "7YwL8vOzICNY"
   },
   "outputs": [
    {
     "name": "stdout",
     "output_type": "stream",
     "text": [
      "(160, 5) (40, 5)\n"
     ]
    }
   ],
   "source": [
    "### YOUR CODE HERE ###\n",
    "from sklearn.model_selection import train_test_split\n",
    "\n",
    "train, test = train_test_split(df, test_size=0.2, random_state=1)\n",
    "print(train.shape, test.shape)"
   ]
  },
  {
   "cell_type": "markdown",
   "metadata": {
    "id": "pmzNU3XqICuX"
   },
   "source": [
    "### Задание 4\n",
    "\n",
    "Заполните пропуски в признаках в обучающей выборке с использованием инструментов sklearn. Для каждого признака выберите и аргументируйте стратегию заполнения пропусков."
   ]
  },
  {
   "cell_type": "code",
   "execution_count": 13,
   "metadata": {
    "id": "wM-cN8q8IZVe"
   },
   "outputs": [
    {
     "name": "stdout",
     "output_type": "stream",
     "text": [
      "<class 'pandas.core.frame.DataFrame'>\n",
      "Index: 160 entries, 108 to 37\n",
      "Data columns (total 5 columns):\n",
      " #   Column                  Non-Null Count  Dtype  \n",
      "---  ------                  --------------  -----  \n",
      " 0   CustomerID              160 non-null    int64  \n",
      " 1   Genre                   145 non-null    object \n",
      " 2   Age                     145 non-null    float64\n",
      " 3   Annual Income (k$)      142 non-null    float64\n",
      " 4   Spending Score (1-100)  160 non-null    int64  \n",
      "dtypes: float64(2), int64(2), object(1)\n",
      "memory usage: 7.5+ KB\n",
      "None\n",
      "\n",
      "Стратегия заполнения пустот:\n",
      "1. Сперва удалим строки содержащие 2 пустых признака. Почему 2 - если предположить что Annual Income (k$) наша целевая переменная то у нас остаются 3 признака по которым мы должны предсказать целевую переменную.\n",
      "2. Genre - Гендр заполню наиболее распространенным\n",
      "3. Age - Заполню медианой с учтом Гендера, медиана будет менее чувствительная к выбросу\n",
      "4. Annual Income (k$) - заполню медианой значением, медиана будет менее чувствительна к аномалии которая есть в данных\n",
      "\n",
      "1. Записей на удаление = 5\n",
      "записей в train после удаления: 155\n",
      "2. Genre - Гендр заполню наиболее распространенным\n",
      "3. Age - Заполню медианой с учтом Гендера, медиана будет менее чувствительная к выбросу\n",
      "4. Annual Income (k$) - заполню медианой значением, медиана будет менее чувствительна к аномалии которая есть в данных\n",
      "\n",
      "<class 'pandas.core.frame.DataFrame'>\n",
      "RangeIndex: 155 entries, 0 to 154\n",
      "Data columns (total 5 columns):\n",
      " #   Column                  Non-Null Count  Dtype \n",
      "---  ------                  --------------  ----- \n",
      " 0   Genre                   155 non-null    object\n",
      " 1   Age                     155 non-null    object\n",
      " 2   Annual Income (k$)      155 non-null    object\n",
      " 3   CustomerID              155 non-null    object\n",
      " 4   Spending Score (1-100)  155 non-null    object\n",
      "dtypes: object(5)\n",
      "memory usage: 6.2+ KB\n"
     ]
    }
   ],
   "source": [
    "### YOUR CODE HERE ###\n",
    "from sklearn.impute import SimpleImputer\n",
    "from sklearn.compose import ColumnTransformer\n",
    "import pandas as pd\n",
    "print(train.info())\n",
    "print(\"\\nСтратегия заполнения пустот:\\n\"\n",
    "      \"1. Сперва удалим строки содержащие 2 пустых признака. Почему 2 - если предположить что Annual Income (k$) наша целевая переменная то у нас остаются 3 признака по которым мы должны предсказать целевую переменную.\\n\"\n",
    "      \"2. Genre - Гендр заполню наиболее распространенным\\n\"\n",
    "      \"3. Age - Заполню медианой с учтом Гендера, медиана будет менее чувствительная к выбросу\\n\"\n",
    "      \"4. Annual Income (k$) - заполню медианой значением, медиана будет менее чувствительна к аномалии которая есть в данных\\n\")\n",
    "\n",
    "print(\"1. Записей на удаление =\", train[train.isna().sum(axis=1)>= 2].shape[0])\n",
    "train = train.drop(index=train[train.isna().sum(axis=1)>= 2].index)\n",
    "print(\"записей в train после удаления:\",train.shape[0])\n",
    "\n",
    "print(\"2. Genre - Гендр заполню наиболее распространенным\\n\"\n",
    "      \"3. Age - Заполню медианой с учтом Гендера, медиана будет менее чувствительная к выбросу\\n\"\n",
    "      \"4. Annual Income (k$) - заполню медианой значением, медиана будет менее чувствительна к аномалии которая есть в данных\\n\")\n",
    "\n",
    "\n",
    "# Определяем колонки с разными стратегиями\n",
    "fillpop_columns = ['Genre']\n",
    "fillmedian_columns = ['Age', 'Annual Income (k$)']\n",
    "\n",
    "# Определяем стратегии для числовых и категориальных данных\n",
    "fillpop_imputer = SimpleImputer(strategy='most_frequent')  \n",
    "fillmedian_imputer = SimpleImputer(strategy='median')  \n",
    "\n",
    "# Создаем один ColumnTransformer с обеими стратегиями\n",
    "na_transformers = ColumnTransformer(\n",
    "    transformers=[\n",
    "        ('fillna_pop', fillpop_imputer, fillpop_columns),\n",
    "        ('fillna_median', fillmedian_imputer, fillmedian_columns)\n",
    "    ],\n",
    "    remainder='passthrough'  # Остальные колонки остаются без изменений\n",
    ")\n",
    "na_transform_result = na_transformers.fit_transform(train)\n",
    "\n",
    "def get_dataframe_from_colransformer(transformer_result, in_df_col_names, column_transformer):\n",
    "    # Получаем колонки, которые прошли через трансформеры\n",
    "    transformer_col_names = column_transformer.get_feature_names_out()\n",
    "    # print(\"transformer_col_names****: \",transformer_col_names)\n",
    "    all_col_names = []\n",
    "    for tran in column_transformer.transformers_:\n",
    "        if tran[0] != 'remainder':\n",
    "            # print(tran[0], tran[2])\n",
    "            all_col_names = all_col_names+tran[2]\n",
    "        else:\n",
    "            for i in tran[2]:\n",
    "                # print(tran[0], in_df_col_names[i])\n",
    "                all_col_names.append(in_df_col_names[i])\n",
    "                \n",
    "    # print(\"all columns!!!!!!\", all_col_names)    \n",
    "    \n",
    "    # Преобразовываем результат в DataFrame с восстановленными именами\n",
    "    result_df = pd.DataFrame(transformer_result, columns=all_col_names)\n",
    "    return result_df\n",
    "    \n",
    "train_filled = get_dataframe_from_colransformer(na_transform_result, train.columns, na_transformers)\n",
    "\n",
    "train_filled.info()"
   ]
  },
  {
   "cell_type": "markdown",
   "metadata": {
    "id": "dG06N3kJIZ9A"
   },
   "source": [
    "### Задание 5\n",
    "\n",
    "Найдите выбросы в признаках обучающей выборки. Замените выбросы, если таковые имеются, и аргументируйте выбор метода поиска выбросов.\n"
   ]
  },
  {
   "cell_type": "code",
   "execution_count": 14,
   "metadata": {
    "id": "TTcePy4bI1ab"
   },
   "outputs": [
    {
     "name": "stdout",
     "output_type": "stream",
     "text": [
      "Исходя из иследований всего датафрейма можно сделать вывод что выбросы есть в колонке AGE.Так как это возраст клиента он не может быть выше 100 лет, но все же не хочу делать жесткое ограничение верхней границы.попробую использовать интерквартильный размах для выявления максимальных границ в исходных данных.\n",
      "Histogram to AGE\n"
     ]
    },
    {
     "data": {
      "image/png": "[encoded data removed]",
      "text/plain": [
       "<Figure size 640x480 with 1 Axes>"
      ]
     },
     "metadata": {},
     "output_type": "display_data"
    },
    {
     "name": "stdout",
     "output_type": "stream",
     "text": [
      "Выброс в данных с невозможным возрастом попал в тренеровачные данные\n",
      "0.012903225806451613\n",
      "<class 'pandas.core.frame.DataFrame'>\n",
      "RangeIndex: 155 entries, 0 to 154\n",
      "Data columns (total 5 columns):\n",
      " #   Column                  Non-Null Count  Dtype \n",
      "---  ------                  --------------  ----- \n",
      " 0   Genre                   155 non-null    object\n",
      " 1   Age                     155 non-null    object\n",
      " 2   Annual Income (k$)      155 non-null    object\n",
      " 3   CustomerID              155 non-null    object\n",
      " 4   Spending Score (1-100)  155 non-null    object\n",
      "dtypes: object(5)\n",
      "memory usage: 6.2+ KB\n"
     ]
    }
   ],
   "source": [
    "### YOUR CODE HERE ###\n",
    "from sklearn.preprocessing import FunctionTransformer\n",
    "\n",
    "print(\"Исходя из иследований всего датафрейма можно сделать вывод что выбросы есть в колонке AGE.\"\n",
    "      \"Так как это возраст клиента он не может быть выше 100 лет, но все же не хочу делать жесткое ограничение верхней границы.\"\n",
    "      \"попробую использовать интерквартильный размах для выявления максимальных границ в исходных данных.\")\n",
    "\n",
    "print(f\"Histogram to AGE\")\n",
    "train_filled['Age'].hist(bins=100)\n",
    "plt.title(\"Histogram to AGE\")\n",
    "plt.show()\n",
    "print(\"Выброс в данных с невозможным возрастом попал в тренеровачные данные\")\n",
    "\n",
    "def calculate_outliers(data):\n",
    "    q25 = data.quantile(0.25)\n",
    "    q75 = data.quantile(0.75)\n",
    "    iqr = q75 - q25\n",
    "    boundaries = (q25 - 1.5 * iqr, q75 + 1.5 * iqr)\n",
    "    return boundaries\n",
    "\n",
    "boundaries = calculate_outliers(train_filled.Age)\n",
    "is_outlier = (train_filled.Age < boundaries[0]) | (train_filled.Age > boundaries[1])\n",
    "\n",
    "\n",
    "print(is_outlier.sum() / len(train_filled)) # процент выбросов относительно общего количества записей в датасете\n",
    "train_filled[(train_filled.Age > boundaries[1])]\n",
    "\n",
    "def outboundaries_cleaning(mydf, colname):\n",
    "    boundaries = calculate_outliers(mydf[colname])\n",
    "    mydf.loc[mydf[colname] < boundaries[0], [colname]] = float(boundaries[0])\n",
    "    mydf.loc[mydf[colname] > boundaries[1], [colname]] = float(boundaries[1])\n",
    "    return mydf\n",
    "\n",
    "def func_df_age_cleaner(df):\n",
    "    new_df = outboundaries_cleaning(df, 'Age')\n",
    "    return new_df\n",
    "\n",
    "age_cleaner = FunctionTransformer(func_df_age_cleaner)\n",
    "\n",
    "# train_filled = outboundaries_cleaning(train_filled, 'Age')\n",
    "train_filled = age_cleaner.fit_transform(train_filled)\n",
    "train_filled.info()"
   ]
  },
  {
   "cell_type": "code",
   "execution_count": 15,
   "metadata": {},
   "outputs": [
    {
     "name": "stdout",
     "output_type": "stream",
     "text": [
      "0 Age\n",
      "5 Annual Income (k$)\n",
      "0 Spending Score (1-100)\n",
      "Хотя мы видим аномалии в данных о годовом доходе (тыс. $), полагаю что их не стоит исправлять.\n",
      "Поскольку это доход клиентов, эти данные могут быть вполне достоверными и содержать полезную информацию.\n"
     ]
    }
   ],
   "source": [
    "# Проверим колиечство выбросов во всех колонках\n",
    "num_col\n",
    "for col in num_col:\n",
    "    boundaries = calculate_outliers(train_filled[col])\n",
    "    is_outlier = (train_filled[col] < boundaries[0]) | (train_filled[col] > boundaries[1])    \n",
    "    print(is_outlier.sum(), col) # процент выбросов относительно общего количества записей в датасете\n",
    "\n",
    "print(\"Хотя мы видим аномалии в данных о годовом доходе (тыс. $), полагаю что их не стоит исправлять.\\nПоскольку это доход клиентов, эти данные могут быть вполне достоверными и содержать полезную информацию.\")\n"
   ]
  },
  {
   "cell_type": "code",
   "execution_count": 16,
   "metadata": {},
   "outputs": [
    {
     "name": "stdout",
     "output_type": "stream",
     "text": [
      "В Genre содержатся ошибка Feemale. Просто исправлю на Female\n",
      "Genre\n",
      "Female     88\n",
      "Male       66\n",
      "Feemale     1\n",
      "Name: count, dtype: int64\n",
      "\n",
      "\n",
      "после изменений:\n",
      "Genre\n",
      "Female    89\n",
      "Male      66\n",
      "Name: count, dtype: int64\n"
     ]
    }
   ],
   "source": [
    "# Выбросы в категориальных данных\n",
    "print(\"В Genre содержатся ошибка Feemale. Просто исправлю на Female\")\n",
    "print(train_filled['Genre'].value_counts())\n",
    "\n",
    "def correct_genre(df):\n",
    "    df['Genre'] = df['Genre'].str.replace('Feemale', 'Female')\n",
    "    return df\n",
    "\n",
    "genre_cleaner = FunctionTransformer(correct_genre)\n",
    "\n",
    "train_filled = genre_cleaner.fit_transform(train_filled)\n",
    "print(\"\\n\\nпосле изменений:\")\n",
    "print(train_filled['Genre'].value_counts())\n"
   ]
  },
  {
   "cell_type": "code",
   "execution_count": 17,
   "metadata": {},
   "outputs": [
    {
     "data": {
      "text/html": [
       "<div>\n",
       "<style scoped>\n",
       "    .dataframe tbody tr th:only-of-type {\n",
       "        vertical-align: middle;\n",
       "    }\n",
       "\n",
       "    .dataframe tbody tr th {\n",
       "        vertical-align: top;\n",
       "    }\n",
       "\n",
       "    .dataframe thead th {\n",
       "        text-align: right;\n",
       "    }\n",
       "</style>\n",
       "<table border=\"1\" class=\"dataframe\">\n",
       "  <thead>\n",
       "    <tr style=\"text-align: right;\">\n",
       "      <th></th>\n",
       "      <th>Genre</th>\n",
       "      <th>Age</th>\n",
       "      <th>Annual Income (k$)</th>\n",
       "      <th>CustomerID</th>\n",
       "      <th>Spending Score (1-100)</th>\n",
       "    </tr>\n",
       "  </thead>\n",
       "  <tbody>\n",
       "    <tr>\n",
       "      <th>0</th>\n",
       "      <td>Male</td>\n",
       "      <td>68.0</td>\n",
       "      <td>63.0</td>\n",
       "      <td>109</td>\n",
       "      <td>43</td>\n",
       "    </tr>\n",
       "    <tr>\n",
       "      <th>1</th>\n",
       "      <td>Male</td>\n",
       "      <td>54.0</td>\n",
       "      <td>63.0</td>\n",
       "      <td>108</td>\n",
       "      <td>46</td>\n",
       "    </tr>\n",
       "    <tr>\n",
       "      <th>2</th>\n",
       "      <td>Female</td>\n",
       "      <td>36.0</td>\n",
       "      <td>103.0</td>\n",
       "      <td>190</td>\n",
       "      <td>85</td>\n",
       "    </tr>\n",
       "    <tr>\n",
       "      <th>3</th>\n",
       "      <td>Male</td>\n",
       "      <td>37.0</td>\n",
       "      <td>20.0</td>\n",
       "      <td>15</td>\n",
       "      <td>13</td>\n",
       "    </tr>\n",
       "    <tr>\n",
       "      <th>4</th>\n",
       "      <td>Female</td>\n",
       "      <td>51.0</td>\n",
       "      <td>44.0</td>\n",
       "      <td>57</td>\n",
       "      <td>50</td>\n",
       "    </tr>\n",
       "    <tr>\n",
       "      <th>...</th>\n",
       "      <td>...</td>\n",
       "      <td>...</td>\n",
       "      <td>...</td>\n",
       "      <td>...</td>\n",
       "      <td>...</td>\n",
       "    </tr>\n",
       "    <tr>\n",
       "      <th>150</th>\n",
       "      <td>Female</td>\n",
       "      <td>31.0</td>\n",
       "      <td>72.0</td>\n",
       "      <td>134</td>\n",
       "      <td>71</td>\n",
       "    </tr>\n",
       "    <tr>\n",
       "      <th>151</th>\n",
       "      <td>Male</td>\n",
       "      <td>32.0</td>\n",
       "      <td>73.0</td>\n",
       "      <td>138</td>\n",
       "      <td>73</td>\n",
       "    </tr>\n",
       "    <tr>\n",
       "      <th>152</th>\n",
       "      <td>Female</td>\n",
       "      <td>60.0</td>\n",
       "      <td>50.0</td>\n",
       "      <td>73</td>\n",
       "      <td>49</td>\n",
       "    </tr>\n",
       "    <tr>\n",
       "      <th>153</th>\n",
       "      <td>Female</td>\n",
       "      <td>57.0</td>\n",
       "      <td>75.0</td>\n",
       "      <td>141</td>\n",
       "      <td>5</td>\n",
       "    </tr>\n",
       "    <tr>\n",
       "      <th>154</th>\n",
       "      <td>Female</td>\n",
       "      <td>30.0</td>\n",
       "      <td>34.0</td>\n",
       "      <td>38</td>\n",
       "      <td>73</td>\n",
       "    </tr>\n",
       "  </tbody>\n",
       "</table>\n",
       "<p>155 rows × 5 columns</p>\n",
       "</div>"
      ],
      "text/plain": [
       "      Genre   Age Annual Income (k$) CustomerID Spending Score (1-100)\n",
       "0      Male  68.0               63.0        109                     43\n",
       "1      Male  54.0               63.0        108                     46\n",
       "2    Female  36.0              103.0        190                     85\n",
       "3      Male  37.0               20.0         15                     13\n",
       "4    Female  51.0               44.0         57                     50\n",
       "..      ...   ...                ...        ...                    ...\n",
       "150  Female  31.0               72.0        134                     71\n",
       "151    Male  32.0               73.0        138                     73\n",
       "152  Female  60.0               50.0         73                     49\n",
       "153  Female  57.0               75.0        141                      5\n",
       "154  Female  30.0               34.0         38                     73\n",
       "\n",
       "[155 rows x 5 columns]"
      ]
     },
     "execution_count": 17,
     "metadata": {},
     "output_type": "execute_result"
    }
   ],
   "source": [
    "train_filled"
   ]
  },
  {
   "cell_type": "markdown",
   "metadata": {
    "id": "4iZFKDQ7I2LZ"
   },
   "source": [
    "### Задание 6\n",
    "\n",
    "Нормализуйте численные признаки. Аргументируйте выбор стратегии нормализации для каждого признака.\n"
   ]
  },
  {
   "cell_type": "code",
   "execution_count": 18,
   "metadata": {
    "id": "gSLKHnlYI-bf"
   },
   "outputs": [
    {
     "name": "stdout",
     "output_type": "stream",
     "text": [
      "\n",
      "CustomerID - не думаю что этот признак для модели полезен, поэтому нет особого смысла переживать как этот признак повлияет на модель. Применю MinMaxScaler\n",
      "\n",
      "Age - этот признак нормально распределен и варируется в ограниченном диапазоне, думаю имеет смысл применить MinMaxScaler\n",
      "\n",
      "Annual Income (k$) - Признак имеет аномальные значения, хочу попробовать RobustScaler судя по тому что я нашел этот метод позволяет сохранить влияние разницы в значениях но без ущерба чувствительным к выбросам моделям.\n",
      "\n",
      "Spending Score (1-100) - Нормально распределенный признак с ограниченным диапазоне от 1 до 100. К нему тоже применю MinMaxScaler\n"
     ]
    },
    {
     "data": {
      "text/html": [
       "<div>\n",
       "<style scoped>\n",
       "    .dataframe tbody tr th:only-of-type {\n",
       "        vertical-align: middle;\n",
       "    }\n",
       "\n",
       "    .dataframe tbody tr th {\n",
       "        vertical-align: top;\n",
       "    }\n",
       "\n",
       "    .dataframe thead th {\n",
       "        text-align: right;\n",
       "    }\n",
       "</style>\n",
       "<table border=\"1\" class=\"dataframe\">\n",
       "  <thead>\n",
       "    <tr style=\"text-align: right;\">\n",
       "      <th></th>\n",
       "      <th>Annual Income (k$)</th>\n",
       "      <th>Age</th>\n",
       "      <th>Spending Score (1-100)</th>\n",
       "      <th>CustomerID</th>\n",
       "      <th>Genre</th>\n",
       "    </tr>\n",
       "  </thead>\n",
       "  <tbody>\n",
       "    <tr>\n",
       "      <th>0</th>\n",
       "      <td>0.033898</td>\n",
       "      <td>0.865801</td>\n",
       "      <td>0.43299</td>\n",
       "      <td>0.542714</td>\n",
       "      <td>Male</td>\n",
       "    </tr>\n",
       "    <tr>\n",
       "      <th>1</th>\n",
       "      <td>0.033898</td>\n",
       "      <td>0.623377</td>\n",
       "      <td>0.463918</td>\n",
       "      <td>0.537688</td>\n",
       "      <td>Male</td>\n",
       "    </tr>\n",
       "    <tr>\n",
       "      <th>2</th>\n",
       "      <td>1.389831</td>\n",
       "      <td>0.311688</td>\n",
       "      <td>0.865979</td>\n",
       "      <td>0.949749</td>\n",
       "      <td>Female</td>\n",
       "    </tr>\n",
       "    <tr>\n",
       "      <th>3</th>\n",
       "      <td>-1.423729</td>\n",
       "      <td>0.329004</td>\n",
       "      <td>0.123711</td>\n",
       "      <td>0.070352</td>\n",
       "      <td>Male</td>\n",
       "    </tr>\n",
       "    <tr>\n",
       "      <th>4</th>\n",
       "      <td>-0.610169</td>\n",
       "      <td>0.571429</td>\n",
       "      <td>0.505155</td>\n",
       "      <td>0.281407</td>\n",
       "      <td>Female</td>\n",
       "    </tr>\n",
       "    <tr>\n",
       "      <th>...</th>\n",
       "      <td>...</td>\n",
       "      <td>...</td>\n",
       "      <td>...</td>\n",
       "      <td>...</td>\n",
       "      <td>...</td>\n",
       "    </tr>\n",
       "    <tr>\n",
       "      <th>150</th>\n",
       "      <td>0.338983</td>\n",
       "      <td>0.225108</td>\n",
       "      <td>0.721649</td>\n",
       "      <td>0.668342</td>\n",
       "      <td>Female</td>\n",
       "    </tr>\n",
       "    <tr>\n",
       "      <th>151</th>\n",
       "      <td>0.372881</td>\n",
       "      <td>0.242424</td>\n",
       "      <td>0.742268</td>\n",
       "      <td>0.688442</td>\n",
       "      <td>Male</td>\n",
       "    </tr>\n",
       "    <tr>\n",
       "      <th>152</th>\n",
       "      <td>-0.40678</td>\n",
       "      <td>0.727273</td>\n",
       "      <td>0.494845</td>\n",
       "      <td>0.361809</td>\n",
       "      <td>Female</td>\n",
       "    </tr>\n",
       "    <tr>\n",
       "      <th>153</th>\n",
       "      <td>0.440678</td>\n",
       "      <td>0.675325</td>\n",
       "      <td>0.041237</td>\n",
       "      <td>0.703518</td>\n",
       "      <td>Female</td>\n",
       "    </tr>\n",
       "    <tr>\n",
       "      <th>154</th>\n",
       "      <td>-0.949153</td>\n",
       "      <td>0.207792</td>\n",
       "      <td>0.742268</td>\n",
       "      <td>0.18593</td>\n",
       "      <td>Female</td>\n",
       "    </tr>\n",
       "  </tbody>\n",
       "</table>\n",
       "<p>155 rows × 5 columns</p>\n",
       "</div>"
      ],
      "text/plain": [
       "    Annual Income (k$)       Age Spending Score (1-100) CustomerID   Genre\n",
       "0             0.033898  0.865801                0.43299   0.542714    Male\n",
       "1             0.033898  0.623377               0.463918   0.537688    Male\n",
       "2             1.389831  0.311688               0.865979   0.949749  Female\n",
       "3            -1.423729  0.329004               0.123711   0.070352    Male\n",
       "4            -0.610169  0.571429               0.505155   0.281407  Female\n",
       "..                 ...       ...                    ...        ...     ...\n",
       "150           0.338983  0.225108               0.721649   0.668342  Female\n",
       "151           0.372881  0.242424               0.742268   0.688442    Male\n",
       "152           -0.40678  0.727273               0.494845   0.361809  Female\n",
       "153           0.440678  0.675325               0.041237   0.703518  Female\n",
       "154          -0.949153  0.207792               0.742268    0.18593  Female\n",
       "\n",
       "[155 rows x 5 columns]"
      ]
     },
     "execution_count": 18,
     "metadata": {},
     "output_type": "execute_result"
    }
   ],
   "source": [
    "### YOUR CODE HERE ###\n",
    "from sklearn.preprocessing import MinMaxScaler\n",
    "from sklearn.preprocessing import RobustScaler\n",
    "\n",
    "print(\"\\nCustomerID - не думаю что этот признак для модели полезен, поэтому нет особого смысла переживать как этот признак повлияет на модель. Применю MinMaxScaler\\n\"\n",
    "      \"\\nAge - этот признак нормально распределен и варируется в ограниченном диапазоне, думаю имеет смысл применить MinMaxScaler\\n\"\n",
    "      \"\\nAnnual Income (k$) - Признак имеет аномальные значения, хочу попробовать RobustScaler судя по тому что я нашел этот метод позволяет сохранить влияние разницы в значениях но без ущерба чувствительным к выбросам моделям.\\n\"\n",
    "      \"\\nSpending Score (1-100) - Нормально распределенный признак с ограниченным диапазоне от 1 до 100. К нему тоже применю MinMaxScaler\")\n",
    "\n",
    "\n",
    "robus_scl = RobustScaler()\n",
    "minmax_scl = MinMaxScaler()\n",
    "\n",
    "num_col_standartization = ColumnTransformer(\n",
    "    transformers=[\n",
    "        ('robus_std', robus_scl, ['Annual Income (k$)']),\n",
    "        ('minmax_std', minmax_scl, ['Age', 'Spending Score (1-100)', 'CustomerID'])\n",
    "    ],\n",
    "    remainder='passthrough'  # Остальные колонки остаются без изменений\n",
    ")\n",
    "\n",
    "num_col_standartization_result = num_col_standartization.fit_transform(train_filled)\n",
    "# Применяем трансформацию через fit_transform\n",
    "# train_std = pd.DataFrame(num_col_standartization_result, \n",
    "#                          columns=['Annual Income (k$)', 'Age', 'Spending Score (1-100)', 'CustomerID', 'Genre'])\n",
    "train_std = get_dataframe_from_colransformer(num_col_standartization_result, train_filled.columns, num_col_standartization)\n",
    "train_std\n"
   ]
  },
  {
   "cell_type": "markdown",
   "metadata": {
    "id": "MwEFsRNnI_Ar"
   },
   "source": [
    "### Задание 7\n",
    "\n",
    "Закодируйте категориальные признаки в обучающей выборке. Аргументируйте выбор способа кодирования."
   ]
  },
  {
   "cell_type": "code",
   "execution_count": 19,
   "metadata": {
    "id": "Ypo6y1iMJHeL"
   },
   "outputs": [
    {
     "name": "stdout",
     "output_type": "stream",
     "text": [
      "Genre - наш единственный категориальный признак принимающий 2 значения (Male, Female), OneHoteEncoder с удалением одного из двух признаков думаю идеально подойдет для обработки данного признака. Эта стратегия не создаст большое множество новых фитч чем не осложнит работу моделей и сохранит целостность данного признака.\n"
     ]
    },
    {
     "data": {
      "text/html": [
       "<div>\n",
       "<style scoped>\n",
       "    .dataframe tbody tr th:only-of-type {\n",
       "        vertical-align: middle;\n",
       "    }\n",
       "\n",
       "    .dataframe tbody tr th {\n",
       "        vertical-align: top;\n",
       "    }\n",
       "\n",
       "    .dataframe thead th {\n",
       "        text-align: right;\n",
       "    }\n",
       "</style>\n",
       "<table border=\"1\" class=\"dataframe\">\n",
       "  <thead>\n",
       "    <tr style=\"text-align: right;\">\n",
       "      <th></th>\n",
       "      <th>Genre_is_Male</th>\n",
       "      <th>Annual Income (k$)</th>\n",
       "      <th>Age</th>\n",
       "      <th>Spending Score (1-100)</th>\n",
       "      <th>CustomerID</th>\n",
       "    </tr>\n",
       "  </thead>\n",
       "  <tbody>\n",
       "    <tr>\n",
       "      <th>0</th>\n",
       "      <td>1.0</td>\n",
       "      <td>0.033898</td>\n",
       "      <td>0.865801</td>\n",
       "      <td>0.43299</td>\n",
       "      <td>0.542714</td>\n",
       "    </tr>\n",
       "    <tr>\n",
       "      <th>1</th>\n",
       "      <td>1.0</td>\n",
       "      <td>0.033898</td>\n",
       "      <td>0.623377</td>\n",
       "      <td>0.463918</td>\n",
       "      <td>0.537688</td>\n",
       "    </tr>\n",
       "    <tr>\n",
       "      <th>2</th>\n",
       "      <td>0.0</td>\n",
       "      <td>1.389831</td>\n",
       "      <td>0.311688</td>\n",
       "      <td>0.865979</td>\n",
       "      <td>0.949749</td>\n",
       "    </tr>\n",
       "    <tr>\n",
       "      <th>3</th>\n",
       "      <td>1.0</td>\n",
       "      <td>-1.423729</td>\n",
       "      <td>0.329004</td>\n",
       "      <td>0.123711</td>\n",
       "      <td>0.070352</td>\n",
       "    </tr>\n",
       "    <tr>\n",
       "      <th>4</th>\n",
       "      <td>0.0</td>\n",
       "      <td>-0.610169</td>\n",
       "      <td>0.571429</td>\n",
       "      <td>0.505155</td>\n",
       "      <td>0.281407</td>\n",
       "    </tr>\n",
       "    <tr>\n",
       "      <th>...</th>\n",
       "      <td>...</td>\n",
       "      <td>...</td>\n",
       "      <td>...</td>\n",
       "      <td>...</td>\n",
       "      <td>...</td>\n",
       "    </tr>\n",
       "    <tr>\n",
       "      <th>150</th>\n",
       "      <td>0.0</td>\n",
       "      <td>0.338983</td>\n",
       "      <td>0.225108</td>\n",
       "      <td>0.721649</td>\n",
       "      <td>0.668342</td>\n",
       "    </tr>\n",
       "    <tr>\n",
       "      <th>151</th>\n",
       "      <td>1.0</td>\n",
       "      <td>0.372881</td>\n",
       "      <td>0.242424</td>\n",
       "      <td>0.742268</td>\n",
       "      <td>0.688442</td>\n",
       "    </tr>\n",
       "    <tr>\n",
       "      <th>152</th>\n",
       "      <td>0.0</td>\n",
       "      <td>-0.40678</td>\n",
       "      <td>0.727273</td>\n",
       "      <td>0.494845</td>\n",
       "      <td>0.361809</td>\n",
       "    </tr>\n",
       "    <tr>\n",
       "      <th>153</th>\n",
       "      <td>0.0</td>\n",
       "      <td>0.440678</td>\n",
       "      <td>0.675325</td>\n",
       "      <td>0.041237</td>\n",
       "      <td>0.703518</td>\n",
       "    </tr>\n",
       "    <tr>\n",
       "      <th>154</th>\n",
       "      <td>0.0</td>\n",
       "      <td>-0.949153</td>\n",
       "      <td>0.207792</td>\n",
       "      <td>0.742268</td>\n",
       "      <td>0.18593</td>\n",
       "    </tr>\n",
       "  </tbody>\n",
       "</table>\n",
       "<p>155 rows × 5 columns</p>\n",
       "</div>"
      ],
      "text/plain": [
       "    Genre_is_Male Annual Income (k$)       Age Spending Score (1-100)  \\\n",
       "0             1.0           0.033898  0.865801                0.43299   \n",
       "1             1.0           0.033898  0.623377               0.463918   \n",
       "2             0.0           1.389831  0.311688               0.865979   \n",
       "3             1.0          -1.423729  0.329004               0.123711   \n",
       "4             0.0          -0.610169  0.571429               0.505155   \n",
       "..            ...                ...       ...                    ...   \n",
       "150           0.0           0.338983  0.225108               0.721649   \n",
       "151           1.0           0.372881  0.242424               0.742268   \n",
       "152           0.0           -0.40678  0.727273               0.494845   \n",
       "153           0.0           0.440678  0.675325               0.041237   \n",
       "154           0.0          -0.949153  0.207792               0.742268   \n",
       "\n",
       "    CustomerID  \n",
       "0     0.542714  \n",
       "1     0.537688  \n",
       "2     0.949749  \n",
       "3     0.070352  \n",
       "4     0.281407  \n",
       "..         ...  \n",
       "150   0.668342  \n",
       "151   0.688442  \n",
       "152   0.361809  \n",
       "153   0.703518  \n",
       "154    0.18593  \n",
       "\n",
       "[155 rows x 5 columns]"
      ]
     },
     "execution_count": 19,
     "metadata": {},
     "output_type": "execute_result"
    }
   ],
   "source": [
    "### YOUR CODE HERE ###\n",
    "from sklearn.preprocessing import OneHotEncoder\n",
    "print(\"Genre - наш единственный категориальный признак принимающий 2 значения (Male, Female), OneHoteEncoder с удалением одного из двух признаков думаю идеально подойдет для обработки данного признака. Эта стратегия не создаст большое множество новых фитч чем не осложнит работу моделей и сохранит целостность данного признака.\")\n",
    "\n",
    "ohe_encoder = OneHotEncoder(drop='if_binary', sparse_output=False)\n",
    "cat_col_coder = ColumnTransformer(transformers=[\n",
    "    ('ohe_coding', ohe_encoder, ['Genre'])\n",
    "], remainder='passthrough')\n",
    "cat_col_coder_result = cat_col_coder.fit_transform(train_std)\n",
    "# train_ohe_std = pd.DataFrame(cat_col_coder_result, columns=cat_col_coder.get_feature_names_out+['Annual Income (k$)', 'Age', 'Spending Score (1-100)', 'CustomerID'])\n",
    "train_ohe_std = get_dataframe_from_colransformer(cat_col_coder_result, train_std.columns, cat_col_coder)\n",
    "train_ohe_std = train_ohe_std.rename(columns={'Genre': 'Genre_is_Male'})\n",
    "train_ohe_std"
   ]
  },
  {
   "cell_type": "markdown",
   "metadata": {
    "id": "mT9hsPltJJ2z"
   },
   "source": [
    "### Задание 8\n",
    "Проведите очистку и подготовку тестовых данных. Используйте препроцессоры и другие инструменты, которые вы уже использовали при подготовке обучающей выборки, без их дополнительной настройки."
   ]
  },
  {
   "cell_type": "code",
   "execution_count": 20,
   "metadata": {
    "id": "swiT9IQlziSs"
   },
   "outputs": [
    {
     "name": "stdout",
     "output_type": "stream",
     "text": [
      "<class 'pandas.core.frame.DataFrame'>\n",
      "RangeIndex: 40 entries, 0 to 39\n",
      "Data columns (total 5 columns):\n",
      " #   Column                  Non-Null Count  Dtype \n",
      "---  ------                  --------------  ----- \n",
      " 0   Genre                   40 non-null     object\n",
      " 1   Age                     40 non-null     object\n",
      " 2   Annual Income (k$)      40 non-null     object\n",
      " 3   CustomerID              40 non-null     object\n",
      " 4   Spending Score (1-100)  40 non-null     object\n",
      "dtypes: object(5)\n",
      "memory usage: 1.7+ KB\n",
      "\n",
      " Na filled: None\n",
      "\n",
      " Maximum Age: 67.0\n",
      "\n",
      " Genre unique: Genre\n",
      "Female    30\n",
      "Male      10\n",
      "Name: count, dtype: int64\n",
      "\n",
      " standartization:    Annual Income (k$)       Age Spending Score (1-100) CustomerID   Genre\n",
      "0          -0.542373  0.155844               0.515464   0.291457  Female\n",
      "1          -0.813559  0.813853               0.350515   0.201005  Female\n"
     ]
    },
    {
     "data": {
      "text/html": [
       "<div>\n",
       "<style scoped>\n",
       "    .dataframe tbody tr th:only-of-type {\n",
       "        vertical-align: middle;\n",
       "    }\n",
       "\n",
       "    .dataframe tbody tr th {\n",
       "        vertical-align: top;\n",
       "    }\n",
       "\n",
       "    .dataframe thead th {\n",
       "        text-align: right;\n",
       "    }\n",
       "</style>\n",
       "<table border=\"1\" class=\"dataframe\">\n",
       "  <thead>\n",
       "    <tr style=\"text-align: right;\">\n",
       "      <th></th>\n",
       "      <th>Genre</th>\n",
       "      <th>Genre</th>\n",
       "      <th>Age</th>\n",
       "      <th>Annual Income (k$)</th>\n",
       "      <th>CustomerID</th>\n",
       "    </tr>\n",
       "  </thead>\n",
       "  <tbody>\n",
       "    <tr>\n",
       "      <th>0</th>\n",
       "      <td>0.0</td>\n",
       "      <td>-0.542373</td>\n",
       "      <td>0.155844</td>\n",
       "      <td>0.515464</td>\n",
       "      <td>0.291457</td>\n",
       "    </tr>\n",
       "    <tr>\n",
       "      <th>1</th>\n",
       "      <td>0.0</td>\n",
       "      <td>-0.813559</td>\n",
       "      <td>0.813853</td>\n",
       "      <td>0.350515</td>\n",
       "      <td>0.201005</td>\n",
       "    </tr>\n",
       "    <tr>\n",
       "      <th>2</th>\n",
       "      <td>0.0</td>\n",
       "      <td>-0.983051</td>\n",
       "      <td>0.536797</td>\n",
       "      <td>0.134021</td>\n",
       "      <td>0.170854</td>\n",
       "    </tr>\n",
       "    <tr>\n",
       "      <th>3</th>\n",
       "      <td>1.0</td>\n",
       "      <td>0.0</td>\n",
       "      <td>0.848485</td>\n",
       "      <td>0.597938</td>\n",
       "      <td>0.512563</td>\n",
       "    </tr>\n",
       "    <tr>\n",
       "      <th>4</th>\n",
       "      <td>0.0</td>\n",
       "      <td>1.254237</td>\n",
       "      <td>0.398268</td>\n",
       "      <td>0.391753</td>\n",
       "      <td>0.924623</td>\n",
       "    </tr>\n",
       "    <tr>\n",
       "      <th>5</th>\n",
       "      <td>1.0</td>\n",
       "      <td>2.542373</td>\n",
       "      <td>0.311688</td>\n",
       "      <td>0.175258</td>\n",
       "      <td>0.994975</td>\n",
       "    </tr>\n",
       "    <tr>\n",
       "      <th>6</th>\n",
       "      <td>0.0</td>\n",
       "      <td>-0.067797</td>\n",
       "      <td>0.103896</td>\n",
       "      <td>0.525773</td>\n",
       "      <td>0.477387</td>\n",
       "    </tr>\n",
       "    <tr>\n",
       "      <th>7</th>\n",
       "      <td>0.0</td>\n",
       "      <td>-1.525424</td>\n",
       "      <td>0.225108</td>\n",
       "      <td>0.402062</td>\n",
       "      <td>0.020101</td>\n",
       "    </tr>\n",
       "    <tr>\n",
       "      <th>8</th>\n",
       "      <td>0.0</td>\n",
       "      <td>-1.118644</td>\n",
       "      <td>0.08658</td>\n",
       "      <td>0.886598</td>\n",
       "      <td>0.145729</td>\n",
       "    </tr>\n",
       "    <tr>\n",
       "      <th>9</th>\n",
       "      <td>0.0</td>\n",
       "      <td>0.847458</td>\n",
       "      <td>0.311688</td>\n",
       "      <td>0.268041</td>\n",
       "      <td>0.844221</td>\n",
       "    </tr>\n",
       "    <tr>\n",
       "      <th>10</th>\n",
       "      <td>1.0</td>\n",
       "      <td>0.847458</td>\n",
       "      <td>0.17316</td>\n",
       "      <td>0.762887</td>\n",
       "      <td>0.859296</td>\n",
       "    </tr>\n",
       "    <tr>\n",
       "      <th>11</th>\n",
       "      <td>1.0</td>\n",
       "      <td>-1.322034</td>\n",
       "      <td>0.588745</td>\n",
       "      <td>0.28866</td>\n",
       "      <td>0.090452</td>\n",
       "    </tr>\n",
       "    <tr>\n",
       "      <th>12</th>\n",
       "      <td>0.0</td>\n",
       "      <td>-1.457627</td>\n",
       "      <td>0.294372</td>\n",
       "      <td>1.010309</td>\n",
       "      <td>0.055276</td>\n",
       "    </tr>\n",
       "    <tr>\n",
       "      <th>13</th>\n",
       "      <td>0.0</td>\n",
       "      <td>-0.135593</td>\n",
       "      <td>0.311688</td>\n",
       "      <td>0.463918</td>\n",
       "      <td>0.447236</td>\n",
       "    </tr>\n",
       "    <tr>\n",
       "      <th>14</th>\n",
       "      <td>0.0</td>\n",
       "      <td>0.033898</td>\n",
       "      <td>0.813853</td>\n",
       "      <td>0.525773</td>\n",
       "      <td>0.552764</td>\n",
       "    </tr>\n",
       "    <tr>\n",
       "      <th>15</th>\n",
       "      <td>0.0</td>\n",
       "      <td>0.169492</td>\n",
       "      <td>0.571429</td>\n",
       "      <td>0.43299</td>\n",
       "      <td>0.592965</td>\n",
       "    </tr>\n",
       "    <tr>\n",
       "      <th>16</th>\n",
       "      <td>0.0</td>\n",
       "      <td>0.542373</td>\n",
       "      <td>0.207792</td>\n",
       "      <td>0.742268</td>\n",
       "      <td>0.798995</td>\n",
       "    </tr>\n",
       "    <tr>\n",
       "      <th>17</th>\n",
       "      <td>0.0</td>\n",
       "      <td>-0.983051</td>\n",
       "      <td>0.311688</td>\n",
       "      <td>0.824742</td>\n",
       "      <td>0.175879</td>\n",
       "    </tr>\n",
       "    <tr>\n",
       "      <th>18</th>\n",
       "      <td>0.0</td>\n",
       "      <td>0.372881</td>\n",
       "      <td>0.450216</td>\n",
       "      <td>0.061856</td>\n",
       "      <td>0.683417</td>\n",
       "    </tr>\n",
       "    <tr>\n",
       "      <th>19</th>\n",
       "      <td>1.0</td>\n",
       "      <td>-0.542373</td>\n",
       "      <td>0.606061</td>\n",
       "      <td>0.463918</td>\n",
       "      <td>0.296482</td>\n",
       "    </tr>\n",
       "    <tr>\n",
       "      <th>20</th>\n",
       "      <td>0.0</td>\n",
       "      <td>-0.677966</td>\n",
       "      <td>0.25974</td>\n",
       "      <td>0.608247</td>\n",
       "      <td>0.256281</td>\n",
       "    </tr>\n",
       "    <tr>\n",
       "      <th>21</th>\n",
       "      <td>0.0</td>\n",
       "      <td>-1.389831</td>\n",
       "      <td>0.294372</td>\n",
       "      <td>0.350515</td>\n",
       "      <td>0.080402</td>\n",
       "    </tr>\n",
       "    <tr>\n",
       "      <th>22</th>\n",
       "      <td>0.0</td>\n",
       "      <td>-0.779661</td>\n",
       "      <td>0.536797</td>\n",
       "      <td>0.278351</td>\n",
       "      <td>0.221106</td>\n",
       "    </tr>\n",
       "    <tr>\n",
       "      <th>23</th>\n",
       "      <td>0.0</td>\n",
       "      <td>-0.067797</td>\n",
       "      <td>0.242424</td>\n",
       "      <td>0.42268</td>\n",
       "      <td>0.472362</td>\n",
       "    </tr>\n",
       "    <tr>\n",
       "      <th>24</th>\n",
       "      <td>0.0</td>\n",
       "      <td>0.0</td>\n",
       "      <td>0.051948</td>\n",
       "      <td>0.742268</td>\n",
       "      <td>0.155779</td>\n",
       "    </tr>\n",
       "    <tr>\n",
       "      <th>25</th>\n",
       "      <td>1.0</td>\n",
       "      <td>0.644068</td>\n",
       "      <td>0.311688</td>\n",
       "      <td>0.041237</td>\n",
       "      <td>0.81407</td>\n",
       "    </tr>\n",
       "    <tr>\n",
       "      <th>26</th>\n",
       "      <td>0.0</td>\n",
       "      <td>-0.847458</td>\n",
       "      <td>0.311688</td>\n",
       "      <td>0.257732</td>\n",
       "      <td>0.190955</td>\n",
       "    </tr>\n",
       "    <tr>\n",
       "      <th>27</th>\n",
       "      <td>0.0</td>\n",
       "      <td>-1.118644</td>\n",
       "      <td>0.380952</td>\n",
       "      <td>0.309278</td>\n",
       "      <td>0.140704</td>\n",
       "    </tr>\n",
       "    <tr>\n",
       "      <th>28</th>\n",
       "      <td>0.0</td>\n",
       "      <td>1.728814</td>\n",
       "      <td>0.34632</td>\n",
       "      <td>0.927835</td>\n",
       "      <td>0.969849</td>\n",
       "    </tr>\n",
       "    <tr>\n",
       "      <th>29</th>\n",
       "      <td>1.0</td>\n",
       "      <td>0.0</td>\n",
       "      <td>0.294372</td>\n",
       "      <td>0.618557</td>\n",
       "      <td>0.135678</td>\n",
       "    </tr>\n",
       "    <tr>\n",
       "      <th>30</th>\n",
       "      <td>0.0</td>\n",
       "      <td>-0.745763</td>\n",
       "      <td>0.155844</td>\n",
       "      <td>0.474227</td>\n",
       "      <td>0.236181</td>\n",
       "    </tr>\n",
       "    <tr>\n",
       "      <th>31</th>\n",
       "      <td>0.0</td>\n",
       "      <td>0.779661</td>\n",
       "      <td>0.311688</td>\n",
       "      <td>0.762887</td>\n",
       "      <td>0.829146</td>\n",
       "    </tr>\n",
       "    <tr>\n",
       "      <th>32</th>\n",
       "      <td>0.0</td>\n",
       "      <td>1.966102</td>\n",
       "      <td>0.502165</td>\n",
       "      <td>0.154639</td>\n",
       "      <td>0.974874</td>\n",
       "    </tr>\n",
       "    <tr>\n",
       "      <th>33</th>\n",
       "      <td>1.0</td>\n",
       "      <td>0.881356</td>\n",
       "      <td>0.155844</td>\n",
       "      <td>0.701031</td>\n",
       "      <td>0.889447</td>\n",
       "    </tr>\n",
       "    <tr>\n",
       "      <th>34</th>\n",
       "      <td>1.0</td>\n",
       "      <td>0.881356</td>\n",
       "      <td>0.692641</td>\n",
       "      <td>0.14433</td>\n",
       "      <td>0.884422</td>\n",
       "    </tr>\n",
       "    <tr>\n",
       "      <th>35</th>\n",
       "      <td>0.0</td>\n",
       "      <td>-0.067797</td>\n",
       "      <td>0.155844</td>\n",
       "      <td>0.505155</td>\n",
       "      <td>0.487437</td>\n",
       "    </tr>\n",
       "    <tr>\n",
       "      <th>36</th>\n",
       "      <td>0.0</td>\n",
       "      <td>0.881356</td>\n",
       "      <td>0.588745</td>\n",
       "      <td>0.123711</td>\n",
       "      <td>0.874372</td>\n",
       "    </tr>\n",
       "    <tr>\n",
       "      <th>37</th>\n",
       "      <td>0.0</td>\n",
       "      <td>-0.40678</td>\n",
       "      <td>0.727273</td>\n",
       "      <td>0.56701</td>\n",
       "      <td>0.366834</td>\n",
       "    </tr>\n",
       "    <tr>\n",
       "      <th>38</th>\n",
       "      <td>0.0</td>\n",
       "      <td>-0.474576</td>\n",
       "      <td>0.242424</td>\n",
       "      <td>0.474227</td>\n",
       "      <td>0.346734</td>\n",
       "    </tr>\n",
       "    <tr>\n",
       "      <th>39</th>\n",
       "      <td>1.0</td>\n",
       "      <td>0.847458</td>\n",
       "      <td>0.311688</td>\n",
       "      <td>0.092784</td>\n",
       "      <td>0.864322</td>\n",
       "    </tr>\n",
       "  </tbody>\n",
       "</table>\n",
       "</div>"
      ],
      "text/plain": [
       "   Genre     Genre       Age Annual Income (k$) CustomerID\n",
       "0    0.0 -0.542373  0.155844           0.515464   0.291457\n",
       "1    0.0 -0.813559  0.813853           0.350515   0.201005\n",
       "2    0.0 -0.983051  0.536797           0.134021   0.170854\n",
       "3    1.0       0.0  0.848485           0.597938   0.512563\n",
       "4    0.0  1.254237  0.398268           0.391753   0.924623\n",
       "5    1.0  2.542373  0.311688           0.175258   0.994975\n",
       "6    0.0 -0.067797  0.103896           0.525773   0.477387\n",
       "7    0.0 -1.525424  0.225108           0.402062   0.020101\n",
       "8    0.0 -1.118644   0.08658           0.886598   0.145729\n",
       "9    0.0  0.847458  0.311688           0.268041   0.844221\n",
       "10   1.0  0.847458   0.17316           0.762887   0.859296\n",
       "11   1.0 -1.322034  0.588745            0.28866   0.090452\n",
       "12   0.0 -1.457627  0.294372           1.010309   0.055276\n",
       "13   0.0 -0.135593  0.311688           0.463918   0.447236\n",
       "14   0.0  0.033898  0.813853           0.525773   0.552764\n",
       "15   0.0  0.169492  0.571429            0.43299   0.592965\n",
       "16   0.0  0.542373  0.207792           0.742268   0.798995\n",
       "17   0.0 -0.983051  0.311688           0.824742   0.175879\n",
       "18   0.0  0.372881  0.450216           0.061856   0.683417\n",
       "19   1.0 -0.542373  0.606061           0.463918   0.296482\n",
       "20   0.0 -0.677966   0.25974           0.608247   0.256281\n",
       "21   0.0 -1.389831  0.294372           0.350515   0.080402\n",
       "22   0.0 -0.779661  0.536797           0.278351   0.221106\n",
       "23   0.0 -0.067797  0.242424            0.42268   0.472362\n",
       "24   0.0       0.0  0.051948           0.742268   0.155779\n",
       "25   1.0  0.644068  0.311688           0.041237    0.81407\n",
       "26   0.0 -0.847458  0.311688           0.257732   0.190955\n",
       "27   0.0 -1.118644  0.380952           0.309278   0.140704\n",
       "28   0.0  1.728814   0.34632           0.927835   0.969849\n",
       "29   1.0       0.0  0.294372           0.618557   0.135678\n",
       "30   0.0 -0.745763  0.155844           0.474227   0.236181\n",
       "31   0.0  0.779661  0.311688           0.762887   0.829146\n",
       "32   0.0  1.966102  0.502165           0.154639   0.974874\n",
       "33   1.0  0.881356  0.155844           0.701031   0.889447\n",
       "34   1.0  0.881356  0.692641            0.14433   0.884422\n",
       "35   0.0 -0.067797  0.155844           0.505155   0.487437\n",
       "36   0.0  0.881356  0.588745           0.123711   0.874372\n",
       "37   0.0  -0.40678  0.727273            0.56701   0.366834\n",
       "38   0.0 -0.474576  0.242424           0.474227   0.346734\n",
       "39   1.0  0.847458  0.311688           0.092784   0.864322"
      ]
     },
     "execution_count": 20,
     "metadata": {},
     "output_type": "execute_result"
    }
   ],
   "source": [
    "### YOUR CODE HERE ###\n",
    "na_transform_result = na_transformers.transform(test)\n",
    "test_filled = get_dataframe_from_colransformer(na_transform_result, test.columns, na_transformers)\n",
    "print(\"\\n Na filled:\", test_filled.info())\n",
    "\n",
    "test_filled = age_cleaner.transform(test_filled)\n",
    "print(\"\\n Maximum Age:\", test_filled['Age'].max())\n",
    "\n",
    "test_filled = genre_cleaner.transform(test_filled)\n",
    "print(\"\\n Genre unique:\", test_filled['Genre'].value_counts())\n",
    "\n",
    "num_col_standartization_result = num_col_standartization.transform(test_filled)\n",
    "test_std = get_dataframe_from_colransformer(num_col_standartization_result, test_filled.columns, num_col_standartization)\n",
    "print(\"\\n standartization: \", test_std.head(2))\n",
    "\n",
    "cat_col_coder_result = cat_col_coder.transform(test_std)\n",
    "test_std_ohe = get_dataframe_from_colransformer(cat_col_coder_result, test_filled.columns, cat_col_coder)\n",
    "test_std_ohe"
   ]
  },
  {
   "cell_type": "code",
   "execution_count": 243,
   "metadata": {},
   "outputs": [
    {
     "name": "stdout",
     "output_type": "stream",
     "text": [
      "10\n",
      "[5, 5, 5, 5, 5, 5, 4, 3, 2, 1]\n"
     ]
    },
    {
     "data": {
      "text/plain": [
       "'rtyui'"
      ]
     },
     "execution_count": 243,
     "metadata": {},
     "output_type": "execute_result"
    }
   ],
   "source": [
    "test= \"rtyuirtyui\"\n",
    "n = 0\n",
    "uniq_symb_by_index = [0]*len(test)\n",
    "\n",
    "len_text = len(test)\n",
    "print(len_text)\n",
    "for i in range(len(uniq_symb_by_index)):    \n",
    "    for ind, w in enumerate(test[i:]):\n",
    "        n+=1\n",
    "        if (w in test[i:i+ind]):            \n",
    "            uniq_symb_by_index[i] = ind\n",
    "            break\n",
    "        elif (i+ind+1 >= len_text) & (w not in test[i:-1]):\n",
    "            uniq_symb_by_index[i] = ind+1\n",
    "            break\n",
    "            \n",
    "start_stop = (uniq_symb_by_index.index(max(uniq_symb_by_index)),\n",
    "             uniq_symb_by_index.index(max(uniq_symb_by_index))+max(uniq_symb_by_index))\n",
    "print(uniq_symb_by_index)\n",
    "test[start_stop[0]:start_stop[1]]\n",
    "\n",
    "# print(max(uniq_symb_by_index))"
   ]
  },
  {
   "cell_type": "code",
   "execution_count": 244,
   "metadata": {},
   "outputs": [
    {
     "data": {
      "text/plain": [
       "2"
      ]
     },
     "execution_count": 244,
     "metadata": {},
     "output_type": "execute_result"
    }
   ],
   "source": [
    "len([1,2])"
   ]
  },
  {
   "cell_type": "code",
   "execution_count": 278,
   "metadata": {},
   "outputs": [
    {
     "name": "stdout",
     "output_type": "stream",
     "text": [
      "1 2 2\n",
      "1 2 2\n"
     ]
    }
   ],
   "source": [
    "test = [1,2]\n",
    "t_target = int(len(test)/2)\n",
    "for i in range(len(test)):\n",
    "        \n",
    "    t_target+i\n",
    "    center = test[t_target]\n",
    "    left_n = test[t_target-1]\n",
    "    right_n = test[len(test)-1]\n",
    "\n",
    "    if center+left_n>target:\n",
    "        center == left_n\n",
    "    print(left_n, center, right_n)"
   ]
  },
  {
   "cell_type": "code",
   "execution_count": 377,
   "metadata": {},
   "outputs": [
    {
     "name": "stdout",
     "output_type": "stream",
     "text": [
      "[0, 1]\n"
     ]
    },
    {
     "data": {
      "text/plain": [
       "True"
      ]
     },
     "execution_count": 377,
     "metadata": {},
     "output_type": "execute_result"
    }
   ],
   "source": [
    "def twoSum(nums, target):    \n",
    "        for i in range(len(nums)):\n",
    "            # if nums[i] > target:\n",
    "            #     continue\n",
    "            if nums[i] >= 0 and target > 0:                \n",
    "                test_target = target - nums[i] \n",
    "            elif nums[i] < 0 and target < 0:\n",
    "                test_target = target + abs(nums[i])                \n",
    "            else:\n",
    "                if target != 0:\n",
    "                    test_target = target - nums[i]                                    \n",
    "                # elif target < 0:\n",
    "                #     test_target = target + nums[i]\n",
    "                else:\n",
    "                    print(i)\n",
    "                    test_target = nums[i] * -1\n",
    "                \n",
    "\n",
    "            nums[i] = None\n",
    "\n",
    "            try:\n",
    "                right = nums.index(test_target) #if target != 0 else nums.index(0)\n",
    "                left = i\n",
    "                return [left, right]\n",
    "            except ValueError:\n",
    "                continue\n",
    "            \n",
    "                                    \n",
    "\n",
    "testcase = [9185270,-9977634,5152130,-7569234,2078434,3082495,6630551,-5476859,-3746865,-3892704]\n",
    "target = -792364\n",
    "print(twoSum(testcase, target))  \n",
    "\n",
    "s = 'qwe'\n",
    "s[-1]\n",
    "\n",
    "closed_symb = {\n",
    "            '(': ')',\n",
    "            '{': '}',\n",
    "            '[': ']'\n",
    "        }\n",
    "'{' in closed_symb"
   ]
  },
  {
   "cell_type": "code",
   "execution_count": 378,
   "metadata": {},
   "outputs": [
    {
     "data": {
      "text/plain": [
       "0"
      ]
     },
     "execution_count": 378,
     "metadata": {},
     "output_type": "execute_result"
    }
   ],
   "source": [
    "7%7"
   ]
  },
  {
   "cell_type": "code",
   "execution_count": null,
   "metadata": {},
   "outputs": [],
   "source": []
  }
 ],
 "metadata": {
  "colab": {
   "provenance": []
  },
  "gpuClass": "standard",
  "kernelspec": {
   "display_name": "Python 3 (ipykernel)",
   "language": "python",
   "name": "python3"
  },
  "language_info": {
   "codemirror_mode": {
    "name": "ipython",
    "version": 3
   },
   "file_extension": ".py",
   "mimetype": "text/x-python",
   "name": "python",
   "nbconvert_exporter": "python",
   "pygments_lexer": "ipython3",
   "version": "3.11.5"
  }
 },
 "nbformat": 4,
 "nbformat_minor": 4
}
