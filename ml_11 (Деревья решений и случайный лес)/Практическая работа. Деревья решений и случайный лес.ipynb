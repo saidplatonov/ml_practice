{
 "cells": [
  {
   "cell_type": "markdown",
   "metadata": {
    "id": "wGUh9-kKDVk_"
   },
   "source": [
    "# Случайный лес\n",
    "\n",
    "В этом практическом задании вы решите задачу регрессии на реальных данных при помощи линейной модели и случайного леса. "
   ]
  },
  {
   "cell_type": "markdown",
   "metadata": {
    "id": "RS-i_3wQqtxS"
   },
   "source": [
    "## Цели практической работы\n",
    "\n",
    "* Научиться применять случайный лес в задаче регрессии.\n",
    "* Научиться сравнивать качество случайного леса с качеством линейной модели.\n",
    "* Научиться настраивать гиперпараметры леса."
   ]
  },
  {
   "cell_type": "markdown",
   "metadata": {
    "id": "4Uo9gVtsqbJX"
   },
   "source": [
    "## Что входит в работу\n",
    "\n",
    "* Выполнить предобработку данных.\n",
    "* Обучить линейную регрессию на данных задачи.\n",
    "* Обучить случайный лес на данных задачи.\n",
    "* Подобрать гиперпараметры для леса.\n",
    "* Визуализировать важность признаков у леса."
   ]
  },
  {
   "cell_type": "markdown",
   "metadata": {
    "id": "9WSnh3hKrFZX"
   },
   "source": [
    "## Что оценивается\n",
    "\n",
    "*  Все ячейки заполнены; при запуске ячеек  Python не выдаёт информацию об ошибках.\n",
    "*  Качество итоговой модели $R^2$ превышает 0,95.\n"
   ]
  },
  {
   "cell_type": "markdown",
   "metadata": {
    "id": "Tb-5iUrybT-m"
   },
   "source": [
    "## Что нужно сделать\n",
    "\n",
    "Постройте модели, предсказывающие стоимость автомобилей по характеристикам.\n",
    "\n",
    "Признаков у машин много, но в этой работе обойдёмся только числовыми признаками:\n",
    "*  year — год производства автомобиля;\n",
    "*  km_driven — пробег;\n",
    "*  seats — количество посадочных мест;\n",
    "*  mileage — другая характеристика пробега;\n",
    "*  engine — мощность двигателя;\n",
    "*  max_power — мощность автомобиля.\n",
    "\n",
    "Целевая переменная — selling_price."
   ]
  },
  {
   "cell_type": "code",
   "execution_count": 1,
   "metadata": {
    "id": "0smCupJnhCRx"
   },
   "outputs": [
    {
     "name": "stdout",
     "output_type": "stream",
     "text": [
      "(6998, 13) (1000, 13)\n"
     ]
    },
    {
     "data": {
      "text/html": [
       "<div>\n",
       "<style scoped>\n",
       "    .dataframe tbody tr th:only-of-type {\n",
       "        vertical-align: middle;\n",
       "    }\n",
       "\n",
       "    .dataframe tbody tr th {\n",
       "        vertical-align: top;\n",
       "    }\n",
       "\n",
       "    .dataframe thead th {\n",
       "        text-align: right;\n",
       "    }\n",
       "</style>\n",
       "<table border=\"1\" class=\"dataframe\">\n",
       "  <thead>\n",
       "    <tr style=\"text-align: right;\">\n",
       "      <th></th>\n",
       "      <th>name</th>\n",
       "      <th>year</th>\n",
       "      <th>selling_price</th>\n",
       "      <th>km_driven</th>\n",
       "      <th>fuel</th>\n",
       "      <th>seller_type</th>\n",
       "      <th>transmission</th>\n",
       "      <th>owner</th>\n",
       "      <th>mileage</th>\n",
       "      <th>engine</th>\n",
       "      <th>max_power</th>\n",
       "      <th>torque</th>\n",
       "      <th>seats</th>\n",
       "    </tr>\n",
       "  </thead>\n",
       "  <tbody>\n",
       "    <tr>\n",
       "      <th>0</th>\n",
       "      <td>Maruti Swift Dzire VDI</td>\n",
       "      <td>2014.0</td>\n",
       "      <td>450000.0</td>\n",
       "      <td>145500.0</td>\n",
       "      <td>Diesel</td>\n",
       "      <td>Individual</td>\n",
       "      <td>Manual</td>\n",
       "      <td>First Owner</td>\n",
       "      <td>23.4 kmpl</td>\n",
       "      <td>1248 CC</td>\n",
       "      <td>74 bhp</td>\n",
       "      <td>190Nm@ 2000rpm</td>\n",
       "      <td>5.0</td>\n",
       "    </tr>\n",
       "    <tr>\n",
       "      <th>1</th>\n",
       "      <td>Skoda Rapid 1.5 TDI Ambition</td>\n",
       "      <td>2014.0</td>\n",
       "      <td>370000.0</td>\n",
       "      <td>120000.0</td>\n",
       "      <td>Diesel</td>\n",
       "      <td>Individual</td>\n",
       "      <td>Manual</td>\n",
       "      <td>Second Owner</td>\n",
       "      <td>21.14 kmpl</td>\n",
       "      <td>1498 CC</td>\n",
       "      <td>103.52 bhp</td>\n",
       "      <td>250Nm@ 1500-2500rpm</td>\n",
       "      <td>5.0</td>\n",
       "    </tr>\n",
       "    <tr>\n",
       "      <th>2</th>\n",
       "      <td>Hyundai i20 Sportz Diesel</td>\n",
       "      <td>2010.0</td>\n",
       "      <td>225000.0</td>\n",
       "      <td>127000.0</td>\n",
       "      <td>Diesel</td>\n",
       "      <td>Individual</td>\n",
       "      <td>Manual</td>\n",
       "      <td>First Owner</td>\n",
       "      <td>23.0 kmpl</td>\n",
       "      <td>1396 CC</td>\n",
       "      <td>90 bhp</td>\n",
       "      <td>22.4 kgm at 1750-2750rpm</td>\n",
       "      <td>5.0</td>\n",
       "    </tr>\n",
       "    <tr>\n",
       "      <th>3</th>\n",
       "      <td>Maruti Swift VXI BSIII,2007,130000,120000,Petr...</td>\n",
       "      <td>NaN</td>\n",
       "      <td>NaN</td>\n",
       "      <td>NaN</td>\n",
       "      <td>NaN</td>\n",
       "      <td>NaN</td>\n",
       "      <td>NaN</td>\n",
       "      <td>NaN</td>\n",
       "      <td>NaN</td>\n",
       "      <td>NaN</td>\n",
       "      <td>NaN</td>\n",
       "      <td>NaN</td>\n",
       "      <td>NaN</td>\n",
       "    </tr>\n",
       "    <tr>\n",
       "      <th>4</th>\n",
       "      <td>Hyundai Xcent 1.2 VTVT E Plus</td>\n",
       "      <td>2017.0</td>\n",
       "      <td>440000.0</td>\n",
       "      <td>45000.0</td>\n",
       "      <td>Petrol</td>\n",
       "      <td>Individual</td>\n",
       "      <td>Manual</td>\n",
       "      <td>First Owner</td>\n",
       "      <td>20.14 kmpl</td>\n",
       "      <td>1197 CC</td>\n",
       "      <td>81.86 bhp</td>\n",
       "      <td>113.75nm@ 4000rpm</td>\n",
       "      <td>5.0</td>\n",
       "    </tr>\n",
       "    <tr>\n",
       "      <th>...</th>\n",
       "      <td>...</td>\n",
       "      <td>...</td>\n",
       "      <td>...</td>\n",
       "      <td>...</td>\n",
       "      <td>...</td>\n",
       "      <td>...</td>\n",
       "      <td>...</td>\n",
       "      <td>...</td>\n",
       "      <td>...</td>\n",
       "      <td>...</td>\n",
       "      <td>...</td>\n",
       "      <td>...</td>\n",
       "      <td>...</td>\n",
       "    </tr>\n",
       "    <tr>\n",
       "      <th>6993</th>\n",
       "      <td>Hyundai i20 Magna</td>\n",
       "      <td>2013.0</td>\n",
       "      <td>320000.0</td>\n",
       "      <td>110000.0</td>\n",
       "      <td>Petrol</td>\n",
       "      <td>Individual</td>\n",
       "      <td>Manual</td>\n",
       "      <td>First Owner</td>\n",
       "      <td>18.5 kmpl</td>\n",
       "      <td>1197 CC</td>\n",
       "      <td>82.85 bhp</td>\n",
       "      <td>113.7Nm@ 4000rpm</td>\n",
       "      <td>5.0</td>\n",
       "    </tr>\n",
       "    <tr>\n",
       "      <th>6994</th>\n",
       "      <td>Hyundai Verna CRDi SX,2007,135000,119000,Diese...</td>\n",
       "      <td>NaN</td>\n",
       "      <td>NaN</td>\n",
       "      <td>NaN</td>\n",
       "      <td>NaN</td>\n",
       "      <td>NaN</td>\n",
       "      <td>NaN</td>\n",
       "      <td>NaN</td>\n",
       "      <td>NaN</td>\n",
       "      <td>NaN</td>\n",
       "      <td>NaN</td>\n",
       "      <td>NaN</td>\n",
       "      <td>NaN</td>\n",
       "    </tr>\n",
       "    <tr>\n",
       "      <th>6995</th>\n",
       "      <td>Maruti Swift Dzire ZDi</td>\n",
       "      <td>2009.0</td>\n",
       "      <td>382000.0</td>\n",
       "      <td>120000.0</td>\n",
       "      <td>Diesel</td>\n",
       "      <td>Individual</td>\n",
       "      <td>Manual</td>\n",
       "      <td>First Owner</td>\n",
       "      <td>19.3 kmpl</td>\n",
       "      <td>1248 CC</td>\n",
       "      <td>73.9 bhp</td>\n",
       "      <td>190Nm@ 2000rpm</td>\n",
       "      <td>5.0</td>\n",
       "    </tr>\n",
       "    <tr>\n",
       "      <th>6996</th>\n",
       "      <td>Tata Indigo CR4</td>\n",
       "      <td>2013.0</td>\n",
       "      <td>290000.0</td>\n",
       "      <td>25000.0</td>\n",
       "      <td>Diesel</td>\n",
       "      <td>Individual</td>\n",
       "      <td>Manual</td>\n",
       "      <td>First Owner</td>\n",
       "      <td>23.57 kmpl</td>\n",
       "      <td>1396 CC</td>\n",
       "      <td>70 bhp</td>\n",
       "      <td>140Nm@ 1800-3000rpm</td>\n",
       "      <td>5.0</td>\n",
       "    </tr>\n",
       "    <tr>\n",
       "      <th>6997</th>\n",
       "      <td>Tata Indigo CR4</td>\n",
       "      <td>2013.0</td>\n",
       "      <td>290000.0</td>\n",
       "      <td>25000.0</td>\n",
       "      <td>Diesel</td>\n",
       "      <td>Individual</td>\n",
       "      <td>Manual</td>\n",
       "      <td>First Owner</td>\n",
       "      <td>23.57 kmpl</td>\n",
       "      <td>1396 CC</td>\n",
       "      <td>70 bhp</td>\n",
       "      <td>140Nm@ 1800-3000rpm</td>\n",
       "      <td>5.0</td>\n",
       "    </tr>\n",
       "  </tbody>\n",
       "</table>\n",
       "<p>6998 rows × 13 columns</p>\n",
       "</div>"
      ],
      "text/plain": [
       "                                                   name    year  \\\n",
       "0                                Maruti Swift Dzire VDI  2014.0   \n",
       "1                          Skoda Rapid 1.5 TDI Ambition  2014.0   \n",
       "2                             Hyundai i20 Sportz Diesel  2010.0   \n",
       "3     Maruti Swift VXI BSIII,2007,130000,120000,Petr...     NaN   \n",
       "4                         Hyundai Xcent 1.2 VTVT E Plus  2017.0   \n",
       "...                                                 ...     ...   \n",
       "6993                                  Hyundai i20 Magna  2013.0   \n",
       "6994  Hyundai Verna CRDi SX,2007,135000,119000,Diese...     NaN   \n",
       "6995                             Maruti Swift Dzire ZDi  2009.0   \n",
       "6996                                    Tata Indigo CR4  2013.0   \n",
       "6997                                    Tata Indigo CR4  2013.0   \n",
       "\n",
       "      selling_price  km_driven    fuel seller_type transmission         owner  \\\n",
       "0          450000.0   145500.0  Diesel  Individual       Manual   First Owner   \n",
       "1          370000.0   120000.0  Diesel  Individual       Manual  Second Owner   \n",
       "2          225000.0   127000.0  Diesel  Individual       Manual   First Owner   \n",
       "3               NaN        NaN     NaN         NaN          NaN           NaN   \n",
       "4          440000.0    45000.0  Petrol  Individual       Manual   First Owner   \n",
       "...             ...        ...     ...         ...          ...           ...   \n",
       "6993       320000.0   110000.0  Petrol  Individual       Manual   First Owner   \n",
       "6994            NaN        NaN     NaN         NaN          NaN           NaN   \n",
       "6995       382000.0   120000.0  Diesel  Individual       Manual   First Owner   \n",
       "6996       290000.0    25000.0  Diesel  Individual       Manual   First Owner   \n",
       "6997       290000.0    25000.0  Diesel  Individual       Manual   First Owner   \n",
       "\n",
       "         mileage   engine   max_power                    torque  seats  \n",
       "0      23.4 kmpl  1248 CC      74 bhp            190Nm@ 2000rpm    5.0  \n",
       "1     21.14 kmpl  1498 CC  103.52 bhp       250Nm@ 1500-2500rpm    5.0  \n",
       "2      23.0 kmpl  1396 CC      90 bhp  22.4 kgm at 1750-2750rpm    5.0  \n",
       "3            NaN      NaN         NaN                       NaN    NaN  \n",
       "4     20.14 kmpl  1197 CC   81.86 bhp         113.75nm@ 4000rpm    5.0  \n",
       "...          ...      ...         ...                       ...    ...  \n",
       "6993   18.5 kmpl  1197 CC   82.85 bhp          113.7Nm@ 4000rpm    5.0  \n",
       "6994         NaN      NaN         NaN                       NaN    NaN  \n",
       "6995   19.3 kmpl  1248 CC    73.9 bhp            190Nm@ 2000rpm    5.0  \n",
       "6996  23.57 kmpl  1396 CC      70 bhp       140Nm@ 1800-3000rpm    5.0  \n",
       "6997  23.57 kmpl  1396 CC      70 bhp       140Nm@ 1800-3000rpm    5.0  \n",
       "\n",
       "[6998 rows x 13 columns]"
      ]
     },
     "execution_count": 1,
     "metadata": {},
     "output_type": "execute_result"
    }
   ],
   "source": [
    "import pandas as pd\n",
    "import numpy as np\n",
    "\n",
    "train = pd.read_csv(\"cars_train.csv\")\n",
    "test = pd.read_csv(\"cars_test.csv\")\n",
    "\n",
    "print(train.shape, test.shape)\n",
    "train"
   ]
  },
  {
   "cell_type": "markdown",
   "metadata": {
    "id": "jTjAo4UEL3IG"
   },
   "source": [
    "Создайте объекты Xtrain, ytrain, Xtest, ytest. Запишите в них матрицы «объект — признак» и векторы целевой переменной для тренировочного и тестового датасетов."
   ]
  },
  {
   "cell_type": "code",
   "execution_count": 2,
   "metadata": {
    "id": "2tLR6TQAiuXf"
   },
   "outputs": [
    {
     "data": {
      "text/html": [
       "<div>\n",
       "<style scoped>\n",
       "    .dataframe tbody tr th:only-of-type {\n",
       "        vertical-align: middle;\n",
       "    }\n",
       "\n",
       "    .dataframe tbody tr th {\n",
       "        vertical-align: top;\n",
       "    }\n",
       "\n",
       "    .dataframe thead th {\n",
       "        text-align: right;\n",
       "    }\n",
       "</style>\n",
       "<table border=\"1\" class=\"dataframe\">\n",
       "  <thead>\n",
       "    <tr style=\"text-align: right;\">\n",
       "      <th></th>\n",
       "      <th>name</th>\n",
       "      <th>year</th>\n",
       "      <th>km_driven</th>\n",
       "      <th>fuel</th>\n",
       "      <th>seller_type</th>\n",
       "      <th>transmission</th>\n",
       "      <th>owner</th>\n",
       "      <th>mileage</th>\n",
       "      <th>engine</th>\n",
       "      <th>max_power</th>\n",
       "      <th>torque</th>\n",
       "      <th>seats</th>\n",
       "    </tr>\n",
       "  </thead>\n",
       "  <tbody>\n",
       "    <tr>\n",
       "      <th>6738</th>\n",
       "      <td>Tata Manza Aura Quadrajet</td>\n",
       "      <td>2010.0</td>\n",
       "      <td>88000.0</td>\n",
       "      <td>Diesel</td>\n",
       "      <td>Individual</td>\n",
       "      <td>Manual</td>\n",
       "      <td>First Owner</td>\n",
       "      <td>18.8 kmpl</td>\n",
       "      <td>1248 CC</td>\n",
       "      <td>90 bhp</td>\n",
       "      <td>200Nm@ 1750-3000rpm</td>\n",
       "      <td>5.0</td>\n",
       "    </tr>\n",
       "    <tr>\n",
       "      <th>5806</th>\n",
       "      <td>Maruti A-Star Vxi</td>\n",
       "      <td>2010.0</td>\n",
       "      <td>66000.0</td>\n",
       "      <td>Petrol</td>\n",
       "      <td>Individual</td>\n",
       "      <td>Manual</td>\n",
       "      <td>Second Owner</td>\n",
       "      <td>19.0 kmpl</td>\n",
       "      <td>998 CC</td>\n",
       "      <td>66.1 bhp</td>\n",
       "      <td>90Nm@ 3500rpm</td>\n",
       "      <td>5.0</td>\n",
       "    </tr>\n",
       "    <tr>\n",
       "      <th>6682</th>\n",
       "      <td>Hyundai Venue SX Plus Dual Tone Turbo DCT</td>\n",
       "      <td>2019.0</td>\n",
       "      <td>2286.0</td>\n",
       "      <td>Petrol</td>\n",
       "      <td>Trustmark Dealer</td>\n",
       "      <td>Automatic</td>\n",
       "      <td>First Owner</td>\n",
       "      <td>18.15 kmpl</td>\n",
       "      <td>998 CC</td>\n",
       "      <td>118.35 bhp</td>\n",
       "      <td>171.6Nm@ 1500-4000rpm</td>\n",
       "      <td>5.0</td>\n",
       "    </tr>\n",
       "    <tr>\n",
       "      <th>4176</th>\n",
       "      <td>Tata Nano XTA</td>\n",
       "      <td>2016.0</td>\n",
       "      <td>22000.0</td>\n",
       "      <td>Petrol</td>\n",
       "      <td>Individual</td>\n",
       "      <td>Automatic</td>\n",
       "      <td>First Owner</td>\n",
       "      <td>21.9 kmpl</td>\n",
       "      <td>624 CC</td>\n",
       "      <td>37.48 bhp</td>\n",
       "      <td>51Nm@ 4000rpm</td>\n",
       "      <td>4.0</td>\n",
       "    </tr>\n",
       "    <tr>\n",
       "      <th>2087</th>\n",
       "      <td>Hyundai Verna 1.6 SX</td>\n",
       "      <td>2012.0</td>\n",
       "      <td>60000.0</td>\n",
       "      <td>Diesel</td>\n",
       "      <td>Individual</td>\n",
       "      <td>Manual</td>\n",
       "      <td>Third Owner</td>\n",
       "      <td>22.32 kmpl</td>\n",
       "      <td>1582 CC</td>\n",
       "      <td>126.32 bhp</td>\n",
       "      <td>259.8Nm@ 1900-2750rpm</td>\n",
       "      <td>5.0</td>\n",
       "    </tr>\n",
       "    <tr>\n",
       "      <th>...</th>\n",
       "      <td>...</td>\n",
       "      <td>...</td>\n",
       "      <td>...</td>\n",
       "      <td>...</td>\n",
       "      <td>...</td>\n",
       "      <td>...</td>\n",
       "      <td>...</td>\n",
       "      <td>...</td>\n",
       "      <td>...</td>\n",
       "      <td>...</td>\n",
       "      <td>...</td>\n",
       "      <td>...</td>\n",
       "    </tr>\n",
       "    <tr>\n",
       "      <th>3772</th>\n",
       "      <td>Jaguar XF 2.0 Diesel Portfolio</td>\n",
       "      <td>2017.0</td>\n",
       "      <td>45000.0</td>\n",
       "      <td>Diesel</td>\n",
       "      <td>Dealer</td>\n",
       "      <td>Automatic</td>\n",
       "      <td>First Owner</td>\n",
       "      <td>19.33 kmpl</td>\n",
       "      <td>1999 CC</td>\n",
       "      <td>177 bhp</td>\n",
       "      <td>430Nm@ 1750-2500rpm</td>\n",
       "      <td>5.0</td>\n",
       "    </tr>\n",
       "    <tr>\n",
       "      <th>5191</th>\n",
       "      <td>Maruti Swift Dzire ZDI</td>\n",
       "      <td>2014.0</td>\n",
       "      <td>65000.0</td>\n",
       "      <td>Diesel</td>\n",
       "      <td>Individual</td>\n",
       "      <td>Manual</td>\n",
       "      <td>Second Owner</td>\n",
       "      <td>23.4 kmpl</td>\n",
       "      <td>1248 CC</td>\n",
       "      <td>74 bhp</td>\n",
       "      <td>190Nm@ 2000rpm</td>\n",
       "      <td>5.0</td>\n",
       "    </tr>\n",
       "    <tr>\n",
       "      <th>5226</th>\n",
       "      <td>Maruti Alto 800 LXI</td>\n",
       "      <td>2015.0</td>\n",
       "      <td>40000.0</td>\n",
       "      <td>Petrol</td>\n",
       "      <td>Individual</td>\n",
       "      <td>Manual</td>\n",
       "      <td>First Owner</td>\n",
       "      <td>22.74 kmpl</td>\n",
       "      <td>796 CC</td>\n",
       "      <td>47.3 bhp</td>\n",
       "      <td>69Nm@ 3500rpm</td>\n",
       "      <td>5.0</td>\n",
       "    </tr>\n",
       "    <tr>\n",
       "      <th>5390</th>\n",
       "      <td>Toyota Fortuner 4x2 AT</td>\n",
       "      <td>2015.0</td>\n",
       "      <td>91000.0</td>\n",
       "      <td>Diesel</td>\n",
       "      <td>Dealer</td>\n",
       "      <td>Automatic</td>\n",
       "      <td>Second Owner</td>\n",
       "      <td>12.55 kmpl</td>\n",
       "      <td>2982 CC</td>\n",
       "      <td>168.5 bhp</td>\n",
       "      <td>360Nm@ 1400-3200rpm</td>\n",
       "      <td>7.0</td>\n",
       "    </tr>\n",
       "    <tr>\n",
       "      <th>860</th>\n",
       "      <td>Renault KWID RXT</td>\n",
       "      <td>2016.0</td>\n",
       "      <td>20000.0</td>\n",
       "      <td>Petrol</td>\n",
       "      <td>Individual</td>\n",
       "      <td>Manual</td>\n",
       "      <td>First Owner</td>\n",
       "      <td>25.17 kmpl</td>\n",
       "      <td>799 CC</td>\n",
       "      <td>53.3 bhp</td>\n",
       "      <td>72Nm@ 4386rpm</td>\n",
       "      <td>5.0</td>\n",
       "    </tr>\n",
       "  </tbody>\n",
       "</table>\n",
       "<p>6928 rows × 12 columns</p>\n",
       "</div>"
      ],
      "text/plain": [
       "                                           name    year  km_driven    fuel  \\\n",
       "6738                  Tata Manza Aura Quadrajet  2010.0    88000.0  Diesel   \n",
       "5806                          Maruti A-Star Vxi  2010.0    66000.0  Petrol   \n",
       "6682  Hyundai Venue SX Plus Dual Tone Turbo DCT  2019.0     2286.0  Petrol   \n",
       "4176                              Tata Nano XTA  2016.0    22000.0  Petrol   \n",
       "2087                       Hyundai Verna 1.6 SX  2012.0    60000.0  Diesel   \n",
       "...                                         ...     ...        ...     ...   \n",
       "3772             Jaguar XF 2.0 Diesel Portfolio  2017.0    45000.0  Diesel   \n",
       "5191                     Maruti Swift Dzire ZDI  2014.0    65000.0  Diesel   \n",
       "5226                        Maruti Alto 800 LXI  2015.0    40000.0  Petrol   \n",
       "5390                     Toyota Fortuner 4x2 AT  2015.0    91000.0  Diesel   \n",
       "860                            Renault KWID RXT  2016.0    20000.0  Petrol   \n",
       "\n",
       "           seller_type transmission         owner     mileage   engine  \\\n",
       "6738        Individual       Manual   First Owner   18.8 kmpl  1248 CC   \n",
       "5806        Individual       Manual  Second Owner   19.0 kmpl   998 CC   \n",
       "6682  Trustmark Dealer    Automatic   First Owner  18.15 kmpl   998 CC   \n",
       "4176        Individual    Automatic   First Owner   21.9 kmpl   624 CC   \n",
       "2087        Individual       Manual   Third Owner  22.32 kmpl  1582 CC   \n",
       "...                ...          ...           ...         ...      ...   \n",
       "3772            Dealer    Automatic   First Owner  19.33 kmpl  1999 CC   \n",
       "5191        Individual       Manual  Second Owner   23.4 kmpl  1248 CC   \n",
       "5226        Individual       Manual   First Owner  22.74 kmpl   796 CC   \n",
       "5390            Dealer    Automatic  Second Owner  12.55 kmpl  2982 CC   \n",
       "860         Individual       Manual   First Owner  25.17 kmpl   799 CC   \n",
       "\n",
       "       max_power                 torque  seats  \n",
       "6738      90 bhp    200Nm@ 1750-3000rpm    5.0  \n",
       "5806    66.1 bhp          90Nm@ 3500rpm    5.0  \n",
       "6682  118.35 bhp  171.6Nm@ 1500-4000rpm    5.0  \n",
       "4176   37.48 bhp          51Nm@ 4000rpm    4.0  \n",
       "2087  126.32 bhp  259.8Nm@ 1900-2750rpm    5.0  \n",
       "...          ...                    ...    ...  \n",
       "3772     177 bhp    430Nm@ 1750-2500rpm    5.0  \n",
       "5191      74 bhp         190Nm@ 2000rpm    5.0  \n",
       "5226    47.3 bhp          69Nm@ 3500rpm    5.0  \n",
       "5390   168.5 bhp    360Nm@ 1400-3200rpm    7.0  \n",
       "860     53.3 bhp          72Nm@ 4386rpm    5.0  \n",
       "\n",
       "[6928 rows x 12 columns]"
      ]
     },
     "execution_count": 2,
     "metadata": {},
     "output_type": "execute_result"
    }
   ],
   "source": [
    "# Ваш код здесь\n",
    "from sklearn.model_selection import train_test_split\n",
    "\n",
    "Xtrain, Xtest, ytrain,  ytest = train_test_split(train.drop(columns=['selling_price']), train['selling_price'], test_size=0.01, random_state=42)\n",
    "\n",
    "Xtrain"
   ]
  },
  {
   "cell_type": "markdown",
   "metadata": {
    "id": "TWiEH5reAKTF"
   },
   "source": [
    "В тренировочных данных есть автомобили, для которых неизвестна стоимость. Удалите эти автомобили из трейна."
   ]
  },
  {
   "cell_type": "code",
   "execution_count": 3,
   "metadata": {
    "id": "B151ci2AASUb"
   },
   "outputs": [
    {
     "name": "stdout",
     "output_type": "stream",
     "text": [
      "(6634, 12) (6634,)\n",
      "(65, 12) (65,)\n"
     ]
    }
   ],
   "source": [
    "\n",
    "# Ваш код здесь\n",
    "Xtrain_clean = Xtrain.drop(ytrain[ytrain.isnull()].index.to_list())\n",
    "ytrain_clean = ytrain.drop(ytrain[ytrain.isnull()].index.to_list())\n",
    "print(Xtrain_clean.shape, ytrain_clean.shape)\n",
    "\n",
    "Xtest_clean = Xtest.drop(ytest[ytest.isnull()].index.to_list())\n",
    "ytest_clean = ytest.drop(ytest[ytest.isnull()].index.to_list())\n",
    "print(Xtest_clean.shape, ytest_clean.shape)"
   ]
  },
  {
   "cell_type": "code",
   "execution_count": 4,
   "metadata": {},
   "outputs": [
    {
     "name": "stdout",
     "output_type": "stream",
     "text": [
      "0 в датафрейме нет записей с пустым selling_price\n"
     ]
    }
   ],
   "source": [
    "# Обработка тестового датафрейма\n",
    "print(test['selling_price'].isna().sum(), \"в датафрейме нет записей с пустым selling_price\")\n",
    "# test = test.drop(test[test['selling_price'].isnull()].index.to_list())"
   ]
  },
  {
   "cell_type": "markdown",
   "metadata": {
    "id": "3HbVvXLSlVK-"
   },
   "source": [
    "Перед обучением моделей обработайте данные.\n",
    "\n",
    "Обратите внимание, что столбцы mileage, engine и max_power по смыслу числовые. Чтобы превратить их в числовые столбцы, отбросьте единицы измерения и оставьте только числа. В столбцах есть пропущенные значения, их при обработке трогать не нужно."
   ]
  },
  {
   "cell_type": "code",
   "execution_count": 5,
   "metadata": {
    "id": "OdvsVN9Blg7r"
   },
   "outputs": [],
   "source": [
    "# Ваш код здесь\n",
    "Xtest_clean['max_power'] = Xtest_clean['max_power'].str.slice(0,-4).replace('', np.nan)\n",
    "Xtest_clean['engine'] = Xtest_clean['engine'].str.slice(0,-3).replace('', np.nan)\n",
    "Xtest_clean['mileage'] = Xtest_clean['mileage'].str.slice(0,-5).replace('', np.nan)"
   ]
  },
  {
   "cell_type": "code",
   "execution_count": 6,
   "metadata": {},
   "outputs": [],
   "source": [
    "Xtest_clean['max_power'] = Xtest_clean['max_power'].astype('float')\n",
    "Xtest_clean['engine'] = Xtest_clean['engine'].astype('float')\n",
    "Xtest_clean['mileage'] = Xtest_clean['mileage'].astype('float')"
   ]
  },
  {
   "cell_type": "code",
   "execution_count": 7,
   "metadata": {},
   "outputs": [],
   "source": [
    "Xtrain_clean['max_power'] = Xtrain_clean['max_power'].str.slice(0,-4).replace('', np.nan)\n",
    "Xtrain_clean['engine'] = Xtrain_clean['engine'].str.slice(0,-3).replace('', np.nan)\n",
    "Xtrain_clean['mileage'] = Xtrain_clean['mileage'].str.slice(0,-5).replace('', np.nan)\n",
    "Xtrain_clean['max_power'] = Xtrain_clean['max_power'].astype('float')\n",
    "Xtrain_clean['engine'] = Xtrain_clean['engine'].astype('float')\n",
    "Xtrain_clean['mileage'] = Xtrain_clean['mileage'].astype('float')"
   ]
  },
  {
   "cell_type": "code",
   "execution_count": 8,
   "metadata": {},
   "outputs": [
    {
     "name": "stdout",
     "output_type": "stream",
     "text": [
      "<class 'pandas.core.frame.DataFrame'>\n",
      "RangeIndex: 1000 entries, 0 to 999\n",
      "Data columns (total 13 columns):\n",
      " #   Column         Non-Null Count  Dtype  \n",
      "---  ------         --------------  -----  \n",
      " 0   name           1000 non-null   object \n",
      " 1   year           1000 non-null   int64  \n",
      " 2   selling_price  1000 non-null   int64  \n",
      " 3   km_driven      1000 non-null   int64  \n",
      " 4   fuel           1000 non-null   object \n",
      " 5   seller_type    1000 non-null   object \n",
      " 6   transmission   1000 non-null   object \n",
      " 7   owner          1000 non-null   object \n",
      " 8   mileage        981 non-null    float64\n",
      " 9   engine         981 non-null    float64\n",
      " 10  max_power      981 non-null    float64\n",
      " 11  torque         981 non-null    object \n",
      " 12  seats          981 non-null    float64\n",
      "dtypes: float64(4), int64(3), object(6)\n",
      "memory usage: 101.7+ KB\n"
     ]
    }
   ],
   "source": [
    "# Обработка тестового датафрейма\n",
    "test['max_power'] = test['max_power'].str.slice(0,-4).replace('', np.nan)\n",
    "test['engine'] = test['engine'].str.slice(0,-3).replace('', np.nan)\n",
    "test['mileage'] = test['mileage'].str.slice(0,-5).replace('', np.nan)\n",
    "test['max_power'] = test['max_power'].astype('float')\n",
    "test['engine'] = test['engine'].astype('float')\n",
    "test['mileage'] = test['mileage'].astype('float')\n",
    "test.info()"
   ]
  },
  {
   "cell_type": "markdown",
   "metadata": {
    "id": "p43qUhHg-_-e"
   },
   "source": [
    "Оставьте в данных только шесть числовых столбцов:\n",
    "\n",
    "year, km_driven, seats, engine, mileage, max_power"
   ]
  },
  {
   "cell_type": "code",
   "execution_count": 9,
   "metadata": {
    "id": "vP0FYosyix7_"
   },
   "outputs": [
    {
     "name": "stdout",
     "output_type": "stream",
     "text": [
      "(65, 6) (6634, 6)\n"
     ]
    }
   ],
   "source": [
    "# Ваш код здесь\n",
    "main_columns = ['year', 'km_driven', 'seats', 'engine', 'mileage', 'max_power']\n",
    "Xtest_clean = Xtest_clean[main_columns]\n",
    "Xtrain_clean = Xtrain_clean[main_columns]\n",
    "print(Xtest_clean.shape, Xtrain_clean.shape)"
   ]
  },
  {
   "cell_type": "code",
   "execution_count": 10,
   "metadata": {},
   "outputs": [
    {
     "name": "stdout",
     "output_type": "stream",
     "text": [
      "(1000, 6)\n"
     ]
    }
   ],
   "source": [
    "# Обработка тестового датафрейма\n",
    "test_target = test['selling_price']\n",
    "test = test[main_columns]\n",
    "print(test.shape)"
   ]
  },
  {
   "cell_type": "markdown",
   "metadata": {
    "id": "Q0AsRR_69ZFH"
   },
   "source": [
    "Теперь заполните пропуски следующим образом:\n",
    "\n",
    "*    вычислите средние значения по столбцам тренировочной выборки;\n",
    "\n",
    "*    добавьте в пропуски в тренировочных и тестовых данных вычисленные средние."
   ]
  },
  {
   "cell_type": "code",
   "execution_count": 11,
   "metadata": {
    "id": "yk0P1b6X9qqh"
   },
   "outputs": [
    {
     "name": "stdout",
     "output_type": "stream",
     "text": [
      "<class 'pandas.core.frame.DataFrame'>\n",
      "Index: 6634 entries, 6738 to 860\n",
      "Data columns (total 6 columns):\n",
      " #   Column     Non-Null Count  Dtype  \n",
      "---  ------     --------------  -----  \n",
      " 0   year       6634 non-null   float64\n",
      " 1   km_driven  6634 non-null   float64\n",
      " 2   seats      6634 non-null   float64\n",
      " 3   engine     6634 non-null   float64\n",
      " 4   mileage    6634 non-null   float64\n",
      " 5   max_power  6634 non-null   float64\n",
      "dtypes: float64(6)\n",
      "memory usage: 362.8 KB\n"
     ]
    }
   ],
   "source": [
    "# Ваш код здесь\n",
    "\n",
    "for col in main_columns:\n",
    "    Xtest_clean[col] = Xtest_clean[col].fillna(Xtest_clean[col].mean())\n",
    "    Xtrain_clean[col] = Xtrain_clean[col].fillna(Xtrain_clean[col].mean())\n",
    "    \n",
    "    test[col] = test[col].fillna(test[col].mean())\n",
    "Xtrain_clean.info()"
   ]
  },
  {
   "cell_type": "code",
   "execution_count": 12,
   "metadata": {},
   "outputs": [
    {
     "data": {
      "text/plain": [
       "(1000, 6)"
      ]
     },
     "execution_count": 12,
     "metadata": {},
     "output_type": "execute_result"
    }
   ],
   "source": [
    "# СТандартизация данных\n",
    "from sklearn.preprocessing import StandardScaler\n",
    "\n",
    "stdscl = StandardScaler()\n",
    "\n",
    "xtrain_std = stdscl.fit_transform(Xtrain_clean)\n",
    "xtest_std = stdscl.transform(Xtest_clean)\n",
    "test_std = stdscl.transform(test)\n",
    "\n",
    "test_std.shape"
   ]
  },
  {
   "cell_type": "markdown",
   "metadata": {
    "id": "BUatWsDGi_rj"
   },
   "source": [
    "Теперь на обработанных тренировочных данных обучите:\n",
    "\n",
    "*  линейную регрессию,\n",
    "*  случайный лес с параметрами по умолчанию.\n",
    "\n",
    "На обработанных тестовых данных сделайте предсказание и вычислите метрику $R^2$. "
   ]
  },
  {
   "cell_type": "code",
   "execution_count": 13,
   "metadata": {
    "id": "cQ7iS1eu-s_8"
   },
   "outputs": [
    {
     "name": "stdout",
     "output_type": "stream",
     "text": [
      "Default models R2_scores:\n",
      "LinearRegression R2: 0.7828720548403305\n",
      "RandomForestClassifier R2: 0.9498141062281611\n"
     ]
    }
   ],
   "source": [
    "# Ваш код здесь\n",
    "from sklearn.linear_model import LinearRegression\n",
    "from sklearn.ensemble import RandomForestRegressor\n",
    "from sklearn.metrics import r2_score\n",
    "\n",
    "# линейную регрессию\n",
    "li_reg = LinearRegression()\n",
    "li_reg.fit(xtrain_std, ytrain_clean)\n",
    "li_reg_predict = li_reg.predict(xtest_std)\n",
    "\n",
    "# случайный лес с параметрами по умолчанию.\n",
    "rnd_frst = RandomForestRegressor()\n",
    "rnd_frst.fit(xtrain_std, ytrain_clean)\n",
    "rnd_frst_predict = rnd_frst.predict(xtest_std)\n",
    "\n",
    "print(\"Default models R2_scores:\")\n",
    "print(\"LinearRegression R2:\", r2_score(ytest_clean, li_reg_predict))\n",
    "print(\"RandomForestClassifier R2:\", r2_score(ytest_clean, rnd_frst_predict))"
   ]
  },
  {
   "cell_type": "markdown",
   "metadata": {
    "id": "LbbD1-qC76HW"
   },
   "source": [
    "Какая модель получилась лучше?"
   ]
  },
  {
   "cell_type": "code",
   "execution_count": 14,
   "metadata": {
    "id": "j3N-kazm767P"
   },
   "outputs": [
    {
     "name": "stdout",
     "output_type": "stream",
     "text": [
      "Проверим модели на отложенном тестовом датафрейме:\n",
      "**TEST DF** - Default models R2_scores:\n",
      "LinearRegression R2: 0.6483284704334111\n",
      "RandomForestClassifier R2: 0.9618389196246083\n",
      "лучший результат у RandomForestClassifier\n"
     ]
    }
   ],
   "source": [
    "# Ваш ответ здесь\n",
    "print(\"Проверим модели на отложенном тестовом датафрейме:\")\n",
    "li_reg_predict = li_reg.predict(test_std)\n",
    "rnd_frst_predict = rnd_frst.predict(test_std)\n",
    "\n",
    "print(\"**TEST DF** - Default models R2_scores:\")\n",
    "print(\"LinearRegression R2:\", r2_score(test_target, li_reg_predict))\n",
    "print(\"RandomForestClassifier R2:\", r2_score(test_target, rnd_frst_predict))\n",
    "\n",
    "print(\"лучший результат у RandomForestClassifier\")"
   ]
  },
  {
   "cell_type": "markdown",
   "metadata": {
    "id": "J36iRaNoBEkT"
   },
   "source": [
    "Улучшите качество предсказания случайного леса путём подбора гиперпараметров:\n",
    "\n",
    "*   n_estimators,\n",
    "*   max_depth,\n",
    "*   max_features,\n",
    "*   min_samples_leaf,\n",
    "*   min_samples_split.\n",
    "\n",
    "Для подбора гиперпараметров используйте GridSearchCV. Обучайте GridSearchCV по тренировочным данным с разбивкой на три фолда и метрикой $R^2$."
   ]
  },
  {
   "cell_type": "code",
   "execution_count": 15,
   "metadata": {
    "id": "3IWEulMqBXlv"
   },
   "outputs": [
    {
     "name": "stdout",
     "output_type": "stream",
     "text": [
      "Лучшие параметры: {'max_depth': 20, 'max_features': 'sqrt', 'min_samples_leaf': 1, 'min_samples_split': 2, 'n_estimators': 200}\n",
      "R^2 на тестовых данных: 0.9609592673163793\n"
     ]
    }
   ],
   "source": [
    "# Ваш код здесь\n",
    "from sklearn.model_selection import GridSearchCV\n",
    "\n",
    "param_grid = {\n",
    "    'n_estimators': [50, 100, 200, 300],\n",
    "    'max_depth': [None, 20, 30, 50],\n",
    "    'max_features': ['sqrt'],# 'auto', , 'log2'],\n",
    "    'min_samples_split': [2, 5, 10],\n",
    "    'min_samples_leaf': [1, 2, 4],\n",
    "}\n",
    "model = RandomForestRegressor(random_state=27)\n",
    "gs_rnd_frst = GridSearchCV(estimator=model, \n",
    "                           param_grid=param_grid, \n",
    "                           cv=3, \n",
    "                           n_jobs=-1, \n",
    "                           scoring='r2')\n",
    "\n",
    "gs_rnd_frst.fit(xtrain_std, ytrain_clean)\n",
    "\n",
    "# Получение лучших параметров\n",
    "best_params = gs_rnd_frst.best_params_\n",
    "print(\"Лучшие параметры:\", best_params)\n",
    "\n",
    "# Оценка модели с лучшими параметрами\n",
    "best_model = gs_rnd_frst.best_estimator_\n",
    "y_pred = best_model.predict(test_std)\n",
    "print(\"R^2 на тестовых данных:\", r2_score(test_target, y_pred))"
   ]
  },
  {
   "cell_type": "markdown",
   "metadata": {
    "id": "TPNNp6cPDsjD"
   },
   "source": [
    "Теперь обучите на тренировочных данных случайный лес с найденными гиперпараметрами. Сделайте предсказание на тестовых данных и оцените его качество ($R^2$)."
   ]
  },
  {
   "cell_type": "code",
   "execution_count": 16,
   "metadata": {
    "id": "MPdZ9qCxDrkF"
   },
   "outputs": [
    {
     "name": "stdout",
     "output_type": "stream",
     "text": [
      "R^2 на тестовых данных: 0.9609592673163793\n"
     ]
    }
   ],
   "source": [
    "# Ваш код здесь\n",
    "model.set_params(**best_params)\n",
    "model.fit(xtrain_std, ytrain_clean)\n",
    "predict = model.predict(test_std)\n",
    "print(\"R^2 на тестовых данных:\", r2_score(test_target, predict))"
   ]
  },
  {
   "cell_type": "markdown",
   "metadata": {
    "id": "dpWSQeD4ENby"
   },
   "source": [
    "Модель готова. Осталось её проинтерпретировать.\n",
    "\n",
    "При помощи метода model.feature_importances_ визуализируйте гистограмму важности признаков у случайного леса с настроенными гиперпараметрами."
   ]
  },
  {
   "cell_type": "code",
   "execution_count": 17,
   "metadata": {
    "id": "7uZzKbUnD54w"
   },
   "outputs": [
    {
     "data": {
      "image/png": "[encoded data removed]",
      "text/plain": [
       "<Figure size 640x480 with 1 Axes>"
      ]
     },
     "metadata": {},
     "output_type": "display_data"
    }
   ],
   "source": [
    "# Ваш код здесь\n",
    "import matplotlib.pyplot as plt\n",
    "\n",
    "\n",
    "fig, ax = plt.subplots()\n",
    "\n",
    "# Example data\n",
    "people = Xtrain_clean.columns\n",
    "y_pos = np.arange(len(people))\n",
    "performance = model.feature_importances_\n",
    "# error = np.random.rand(len(people))\n",
    "\n",
    "ax.barh(y_pos, performance, align='center')\n",
    "ax.set_yticks(y_pos, labels=people)\n",
    "ax.invert_yaxis()  # labels read top-to-bottom\n",
    "ax.set_xlabel('importances')\n",
    "ax.set_title('Feature Importances')\n",
    "\n",
    "plt.show()"
   ]
  },
  {
   "cell_type": "code",
   "execution_count": null,
   "metadata": {},
   "outputs": [],
   "source": []
  }
 ],
 "metadata": {
  "colab": {
   "provenance": []
  },
  "kernelspec": {
   "display_name": "Python 3 (ipykernel)",
   "language": "python",
   "name": "python3"
  },
  "language_info": {
   "codemirror_mode": {
    "name": "ipython",
    "version": 3
   },
   "file_extension": ".py",
   "mimetype": "text/x-python",
   "name": "python",
   "nbconvert_exporter": "python",
   "pygments_lexer": "ipython3",
   "version": "3.11.5"
  }
 },
 "nbformat": 4,
 "nbformat_minor": 4
}
