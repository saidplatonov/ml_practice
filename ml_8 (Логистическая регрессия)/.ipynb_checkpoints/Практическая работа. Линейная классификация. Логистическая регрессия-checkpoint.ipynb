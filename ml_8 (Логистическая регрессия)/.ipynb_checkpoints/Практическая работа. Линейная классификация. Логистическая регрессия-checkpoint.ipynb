{
 "cells": [
  {
   "cell_type": "markdown",
   "metadata": {
    "id": "Q7ytv2GMjpGZ"
   },
   "source": [
    "# Логистическая регрессия. Практическая работа\n",
    "\n",
    "## Цель практической работы\n",
    "\n",
    "Вы уже делали задание, в котором с помощью метода ближайших соседей оценивали склонность клиента банка откликнуться или не откликнуться на предложение.\n",
    "\n",
    "В этом практическом задании ваши цели:\n",
    "*  решить эту же задачу с помощью логистической регрессии;\n",
    "*  потренироваться в подборе порога; \n",
    "*  потренироваться в подборе гиперпараметров модели."
   ]
  },
  {
   "cell_type": "markdown",
   "metadata": {
    "id": "Sj3n0n38nEfs"
   },
   "source": [
    "## Что входит в работу\n",
    "\n",
    "*  Загрузить данные для задачи.\n",
    "*  Обучить метод ближайших соседей с заданным количеством соседей k, вычислить метрики.\n",
    "*  Обучить логистическую регрессию с параметрами по умолчанию, вычислить метрики.\n",
    "*  Подобрать порог модели, вычислить метрики.\n",
    "*  Подобрать гиперпараметр С (константа регуляризации) модели, вычислить метрики."
   ]
  },
  {
   "cell_type": "markdown",
   "metadata": {
    "id": "3qfZPYNpoFGE"
   },
   "source": [
    "## Что оценивается\n",
    "\n",
    "*  Выполнены все этапы задания: код запускается, отрабатывает без ошибок; подробно и обоснованно написаны текстовые выводы, где это требуется."
   ]
  },
  {
   "cell_type": "markdown",
   "metadata": {
    "id": "3_EzM8UJoRHd"
   },
   "source": [
    "## Формат сдачи\n",
    "Выполните предложенные задания — впишите свой код (или, если требуется, текст) в ячейки после комментариев. \n",
    "\n",
    "*Комментарии — это текст, который начинается с символа #. Например: # ваш код здесь.*\n",
    "\n",
    "Сохраните изменения, используя опцию Save and Checkpoint из вкладки меню File или кнопку Save and Checkpoint на панели инструментов. Итоговый файл в формате .ipynb (файл Jupyter Notebook) загрузите в личный кабинет и отправьте на проверку."
   ]
  },
  {
   "cell_type": "code",
   "execution_count": 1,
   "metadata": {
    "id": "aPDB2wP8jndz"
   },
   "outputs": [],
   "source": [
    "# подключим библиотеки\n",
    "%matplotlib inline\n",
    "import matplotlib.pyplot as plt\n",
    "import numpy as np\n",
    "import pandas as pd\n",
    "\n",
    "import warnings\n",
    "warnings.filterwarnings(\"ignore\")"
   ]
  },
  {
   "cell_type": "code",
   "execution_count": 2,
   "metadata": {
    "id": "7Zw7RmtAjn8O"
   },
   "outputs": [],
   "source": [
    "# считаем данные\n",
    "data = pd.read_csv('ClientsData.csv')"
   ]
  },
  {
   "cell_type": "code",
   "execution_count": 3,
   "metadata": {
    "id": "3QbRGWqJjxOv"
   },
   "outputs": [
    {
     "data": {
      "text/html": [
       "<div>\n",
       "<style scoped>\n",
       "    .dataframe tbody tr th:only-of-type {\n",
       "        vertical-align: middle;\n",
       "    }\n",
       "\n",
       "    .dataframe tbody tr th {\n",
       "        vertical-align: top;\n",
       "    }\n",
       "\n",
       "    .dataframe thead th {\n",
       "        text-align: right;\n",
       "    }\n",
       "</style>\n",
       "<table border=\"1\" class=\"dataframe\">\n",
       "  <thead>\n",
       "    <tr style=\"text-align: right;\">\n",
       "      <th></th>\n",
       "      <th>AGE</th>\n",
       "      <th>SOCSTATUS_WORK_FL</th>\n",
       "      <th>SOCSTATUS_PENS_FL</th>\n",
       "      <th>GENDER</th>\n",
       "      <th>CHILD_TOTAL</th>\n",
       "      <th>DEPENDANTS</th>\n",
       "      <th>PERSONAL_INCOME</th>\n",
       "      <th>LOAN_NUM_TOTAL</th>\n",
       "      <th>LOAN_NUM_CLOSED</th>\n",
       "      <th>LOAN_DLQ_NUM</th>\n",
       "      <th>TARGET</th>\n",
       "    </tr>\n",
       "  </thead>\n",
       "  <tbody>\n",
       "    <tr>\n",
       "      <th>0</th>\n",
       "      <td>49</td>\n",
       "      <td>1</td>\n",
       "      <td>0</td>\n",
       "      <td>1</td>\n",
       "      <td>2</td>\n",
       "      <td>1</td>\n",
       "      <td>5000.0</td>\n",
       "      <td>1</td>\n",
       "      <td>1</td>\n",
       "      <td>2</td>\n",
       "      <td>0</td>\n",
       "    </tr>\n",
       "    <tr>\n",
       "      <th>1</th>\n",
       "      <td>32</td>\n",
       "      <td>1</td>\n",
       "      <td>0</td>\n",
       "      <td>1</td>\n",
       "      <td>3</td>\n",
       "      <td>3</td>\n",
       "      <td>12000.0</td>\n",
       "      <td>1</td>\n",
       "      <td>1</td>\n",
       "      <td>1</td>\n",
       "      <td>0</td>\n",
       "    </tr>\n",
       "    <tr>\n",
       "      <th>2</th>\n",
       "      <td>52</td>\n",
       "      <td>1</td>\n",
       "      <td>0</td>\n",
       "      <td>1</td>\n",
       "      <td>4</td>\n",
       "      <td>0</td>\n",
       "      <td>9000.0</td>\n",
       "      <td>2</td>\n",
       "      <td>1</td>\n",
       "      <td>0</td>\n",
       "      <td>0</td>\n",
       "    </tr>\n",
       "    <tr>\n",
       "      <th>3</th>\n",
       "      <td>39</td>\n",
       "      <td>1</td>\n",
       "      <td>0</td>\n",
       "      <td>1</td>\n",
       "      <td>1</td>\n",
       "      <td>1</td>\n",
       "      <td>25000.0</td>\n",
       "      <td>1</td>\n",
       "      <td>1</td>\n",
       "      <td>3</td>\n",
       "      <td>0</td>\n",
       "    </tr>\n",
       "    <tr>\n",
       "      <th>4</th>\n",
       "      <td>30</td>\n",
       "      <td>1</td>\n",
       "      <td>0</td>\n",
       "      <td>0</td>\n",
       "      <td>0</td>\n",
       "      <td>0</td>\n",
       "      <td>12000.0</td>\n",
       "      <td>2</td>\n",
       "      <td>1</td>\n",
       "      <td>2</td>\n",
       "      <td>0</td>\n",
       "    </tr>\n",
       "  </tbody>\n",
       "</table>\n",
       "</div>"
      ],
      "text/plain": [
       "   AGE  SOCSTATUS_WORK_FL  SOCSTATUS_PENS_FL  GENDER  CHILD_TOTAL  DEPENDANTS  \\\n",
       "0   49                  1                  0       1            2           1   \n",
       "1   32                  1                  0       1            3           3   \n",
       "2   52                  1                  0       1            4           0   \n",
       "3   39                  1                  0       1            1           1   \n",
       "4   30                  1                  0       0            0           0   \n",
       "\n",
       "   PERSONAL_INCOME  LOAN_NUM_TOTAL  LOAN_NUM_CLOSED  LOAN_DLQ_NUM  TARGET  \n",
       "0           5000.0               1                1             2       0  \n",
       "1          12000.0               1                1             1       0  \n",
       "2           9000.0               2                1             0       0  \n",
       "3          25000.0               1                1             3       0  \n",
       "4          12000.0               2                1             2       0  "
      ]
     },
     "execution_count": 3,
     "metadata": {},
     "output_type": "execute_result"
    }
   ],
   "source": [
    "data.head()"
   ]
  },
  {
   "cell_type": "markdown",
   "metadata": {
    "id": "HbnaQJxw2mHQ"
   },
   "source": [
    "В этом ноутбуке нам придётся подбирать гиперпараметры модели, а ещё порог. Поэтому, чтобы не переобучиться, разобъём данные на трейн, валидацию и тест.\n",
    "\n",
    "*  Обучать модели будем на тренировочных данных.\n",
    "*  Подбирать необходимые величины — по валидации.\n",
    "*  Оценивать качество — на тесте."
   ]
  },
  {
   "cell_type": "code",
   "execution_count": 4,
   "metadata": {
    "id": "bkG1LjB0s81d"
   },
   "outputs": [],
   "source": [
    "# разделим данные на обучающую и тестовую выборки\n",
    "from sklearn.model_selection import train_test_split\n",
    "\n",
    "X = data.drop('TARGET', axis=1)\n",
    "y = data['TARGET']\n",
    "\n",
    "Xtrain, Xtest, ytrain, ytest = train_test_split(X, y, train_size=0.7, random_state=123)\n",
    "Xtrain, Xval, ytrain, yval = train_test_split(Xtrain, ytrain, train_size=0.7, random_state=123)"
   ]
  },
  {
   "cell_type": "markdown",
   "metadata": {
    "id": "9g3cyUKPqgqu"
   },
   "source": [
    "В задании по методу ближайших соседей было найдено, что оптимальное число соседей k = 9.\n",
    "\n",
    "Обучите на тренировочных данных KNN с k = 9 и выведите матрицу ошибок, а также значение метрик precision и recall на тестовых данных."
   ]
  },
  {
   "cell_type": "code",
   "execution_count": 5,
   "metadata": {
    "id": "efySFKgej1_1"
   },
   "outputs": [],
   "source": [
    "from sklearn.neighbors import KNeighborsClassifier\n",
    "from sklearn.metrics import confusion_matrix, ConfusionMatrixDisplay\n",
    "from sklearn.metrics import precision_score, recall_score"
   ]
  },
  {
   "cell_type": "code",
   "execution_count": 8,
   "metadata": {
    "id": "QzR_npzTj5OC"
   },
   "outputs": [
    {
     "name": "stdout",
     "output_type": "stream",
     "text": [
      "Recal score to this model:  0.0084985835694051\n",
      "Precision score to this model:  0.14285714285714285\n"
     ]
    },
    {
     "data": {
      "image/png": "[encoded data removed]",
      "text/plain": [
       "<Figure size 640x480 with 2 Axes>"
      ]
     },
     "metadata": {},
     "output_type": "display_data"
    },
    {
     "name": "stdout",
     "output_type": "stream",
     "text": [
      "Metric calculation complited\n"
     ]
    }
   ],
   "source": [
    "# ваш код здесь\n",
    "kn_clsfr = KNeighborsClassifier(n_neighbors=9)\n",
    "kn_clsfr.fit(Xtrain, ytrain)\n",
    "kn_test_prediction = kn_clsfr.predict(Xval)\n",
    "\n",
    "\n",
    "def display_TZ_metrics(true_values, predict_values, target_classes):\n",
    "    recall_is = recall_score(true_values, predict_values)\n",
    "    precision_is = precision_score(true_values, predict_values)\n",
    "    print(\"Recal score to this model: \", recall_is)\n",
    "    print(\"Precision score to this model: \", precision_is)\n",
    "\n",
    "    cm = confusion_matrix(true_values, predict_values)\n",
    "    disp = ConfusionMatrixDisplay(confusion_matrix=cm, display_labels=target_classes)\n",
    "    disp.plot(cmap=plt.cm.Oranges)\n",
    "    plt.show()\n",
    "    \n",
    "    return print(\"Metric calculation complited\")\n",
    "\n",
    "display_TZ_metrics(yval, kn_test_prediction, kn_clsfr.classes_)\n",
    "\n"
   ]
  },
  {
   "cell_type": "markdown",
   "metadata": {
    "id": "E9Bk7tSerX-L"
   },
   "source": [
    "Какой вывод можно сделать:\n",
    "- для класса 0 — клиент не откликнулся — мы получили достаточно высокие значения TP в том числе потому, что представителей этого класса больше;\n",
    "- для класса 1 — клиент откликнулся — мы получили низкие значения TN.\n",
    "\n",
    "Поэтому значения precision и recall низкие. Модель даёт неудовлетворительные результаты, так как находит мало клиентов, которые откликнутся на предложение.\n",
    "\n"
   ]
  },
  {
   "cell_type": "markdown",
   "metadata": {
    "id": "zGmfshG9rmBn"
   },
   "source": [
    "Обучите логистическую регрессию с параметрами по умолчанию и посмотрите на метрики.\n",
    "\n",
    "Везде дальше при оценке метрик надо выводить confusion_matrix, precision и recall."
   ]
  },
  {
   "cell_type": "code",
   "execution_count": 9,
   "metadata": {
    "id": "7tOX78zbrPHB"
   },
   "outputs": [
    {
     "name": "stdout",
     "output_type": "stream",
     "text": [
      "Recal score to this model:  0.0\n",
      "Precision score to this model:  0.0\n"
     ]
    },
    {
     "data": {
      "image/png": "[encoded data removed]",
      "text/plain": [
       "<Figure size 640x480 with 2 Axes>"
      ]
     },
     "metadata": {},
     "output_type": "display_data"
    },
    {
     "name": "stdout",
     "output_type": "stream",
     "text": [
      "Metric calculation complited\n"
     ]
    }
   ],
   "source": [
    "from sklearn.linear_model import LogisticRegression\n",
    "\n",
    "\n",
    "# ваш код здесь\n",
    "log_regres = LogisticRegression()\n",
    "log_regres.fit(Xtrain, ytrain)\n",
    "log_regres_prediction = log_regres.predict(Xval)\n",
    "\n",
    "display_TZ_metrics(yval, log_regres_prediction, log_regres.classes_)\n",
    "\n"
   ]
  },
  {
   "cell_type": "markdown",
   "metadata": {
    "id": "CvWGh7m9sTKM"
   },
   "source": [
    "Наша цель — найти как можно больше клиентов, которые откликнутся на предложение. А модель таких не находит. \n",
    "\n",
    "Мы помним, что метод predict_proba у логистической регрессии предсказывает математические (то есть корректные) вероятности классов. Предскажите вероятности классов с помощью обученной логистической регрессии на тестовых данных и выведите вероятности положительного класса для первых десяти объектов. \n",
    "\n",
    "Глядя на полученные вероятности, попробуйте объяснить, почему вы получили именно такую матрицу ошибок и такие значения точности с полноты."
   ]
  },
  {
   "cell_type": "code",
   "execution_count": 10,
   "metadata": {
    "id": "LNqjcxrwsLzl"
   },
   "outputs": [
    {
     "name": "stdout",
     "output_type": "stream",
     "text": [
      "вероятность принадлежности к положительному классу первых 10 значений в предсказании\n"
     ]
    },
    {
     "data": {
      "text/plain": [
       "array([0.09833304, 0.07544191, 0.09416942, 0.09084625, 0.2337991 ,\n",
       "       0.15746509, 0.12773012, 0.12924894, 0.19634274, 0.15010052])"
      ]
     },
     "execution_count": 10,
     "metadata": {},
     "output_type": "execute_result"
    }
   ],
   "source": [
    "# ваш код здесь\n",
    "log_reg_proba = log_regres.predict_proba(Xval)\n",
    "print(\"вероятность принадлежности к положительному классу первых 10 значений в предсказании\")\n",
    "log_reg_proba[:10,1]\n"
   ]
  },
  {
   "cell_type": "code",
   "execution_count": 11,
   "metadata": {
    "id": "mwJzqbfv5yE4"
   },
   "outputs": [
    {
     "name": "stdout",
     "output_type": "stream",
     "text": [
      "****\n",
      "Проверив данные на которых мы обучаем модель можно сделать вывод что выборка не сбалансирована,\n",
      "поэтому модель лучше предсказывает 0 чем 1,\n",
      "7459 - Размер обучаемой выборки\n",
      "900 - количество записей положительного класса\n",
      "\n",
      "Судя по данным из predict_proba, видно что модель предсказывает очень низкую вероятность принадлежности к положительному классу\n",
      "Средний % предсказания пренодлежности к положительному классу = 0.12328224410631976\n",
      "Наиболее часто встречаемый показатель % предсказания к полож. классу = ModeResult(mode=0.17285405935275056, count=6) \n",
      "Медиана в predict_proba среди % предсказаний к полож. классу 0.1167197455102282\n",
      "****\n",
      "Для удобства ниже отоброжу среднюю, моду и медиану \n",
      "пренадлежности к положительному классу:\n",
      "Среднее: 0.1233%\n",
      "Мода: ModeResult(mode=0.17285405935275056, count=6)\n",
      "Медиана: 0.1167%\n"
     ]
    }
   ],
   "source": [
    "# ваше объяснение здесь\n",
    "from scipy import stats\n",
    "print(\"****\")\n",
    "print(f\"Проверив данные на которых мы обучаем модель можно сделать вывод что выборка не сбалансирована,\\n\"\n",
    "      f\"поэтому модель лучше предсказывает 0 чем 1,\\n\"\n",
    "      f\"{ytrain.count()} - Размер обучаемой выборки\\n\"\n",
    "      f\"{ytrain.sum()} - количество записей положительного класса\")\n",
    "print(\"\\nСудя по данным из predict_proba, видно что модель предсказывает очень низкую вероятность принадлежности к положительному классу\")\n",
    "mean_lr_proba = log_reg_proba[:,1].mean()\n",
    "print(f\"Средний % предсказания пренодлежности к положительному классу = {mean_lr_proba}\")\n",
    "mode_lr_proba = stats.mode(log_reg_proba[:,1])\n",
    "print(f\"Наиболее часто встречаемый показатель % предсказания к полож. классу = {mode_lr_proba} \")\n",
    "median_lr_proba = np.median(log_reg_proba[:,1])\n",
    "print(f\"Медиана в predict_proba среди % предсказаний к полож. классу {median_lr_proba}\")\n",
    "print(\"****\")\n",
    "print(f\"Для удобства ниже отоброжу среднюю, моду и медиану \\nпренадлежности к положительному классу:\"\n",
    "      f\"\\nСреднее: {round(mean_lr_proba,4)}%\"\n",
    "      f\"\\nМода: {mode_lr_proba}\"\n",
    "      f\"\\nМедиана: {round(median_lr_proba, 4)}%\")"
   ]
  },
  {
   "cell_type": "markdown",
   "metadata": {
    "id": "Z08xmRAcugGb"
   },
   "source": [
    "Давайте уточним цель. Пусть нам нужно найти как можно больше клиентов, которые откликнутся на предложение, то есть максимизировать полноту (recall). \n",
    "\n",
    "При этом хочется, чтобы точность модели (precision) не была очень низкой. Заказчик посмотрел на результаты работы KNN и потребовал, чтобы точность была не ниже, чем у KNN: $precision \\geq 0.13$."
   ]
  },
  {
   "cell_type": "markdown",
   "metadata": {
    "id": "f-syFkflt6EV"
   },
   "source": [
    "Давайте будем изменять порог для перевода вероятности в классы так, чтобы:\n",
    "*   максимизировать значение recall\n",
    "*   при условии, что $precision \\geq 0.13$.\n",
    "\n",
    "Если мы будем подбирать порог по тестовой выборке, то, по сути, обучимся на ней и, значит, переобучимся. Это плохо. \n",
    "\n",
    "Поэтому предскажите вероятности на валидационной выборке и подберите порог по ней (Xval, yval), а затем посмотрите, какое качество для найденного порога вы получите на тестовых данных."
   ]
  },
  {
   "cell_type": "code",
   "execution_count": 12,
   "metadata": {
    "id": "398pACpBtFi2"
   },
   "outputs": [
    {
     "name": "stdout",
     "output_type": "stream",
     "text": [
      "0.07300000000000002 0.13045284586622352 0.8895184135977338\n",
      "0.07300000000000002\n"
     ]
    }
   ],
   "source": [
    "# ваш код здесь\n",
    "probs_val = log_reg_proba\n",
    "\n",
    "max_recall = -1\n",
    "thr = -1\n",
    "prec = -1\n",
    "\n",
    "\n",
    "\n",
    "for threshold in np.arange(0.05, 1, 0.001):\n",
    "    # для каждого значения порога переведите вероятности в классы\n",
    "    predict_list = []\n",
    "    \n",
    "    for probs in probs_val:\n",
    "        # print(probs[1])\n",
    "        # break\n",
    "        if probs[1] >= threshold:\n",
    "            predict_list.append(1)\n",
    "        else:\n",
    "            predict_list.append(0)\n",
    "    # df_threshold[str(threshold)] = predict_list \n",
    "    \n",
    "    # посчитайте метрики\n",
    "    recall_is = recall_score(yval, predict_list)\n",
    "    precision_is = precision_score(yval, predict_list)\n",
    "    if precision_is >= 0.13 and max_recall < recall_is:\n",
    "        thr = threshold\n",
    "        max_recall = recall_is\n",
    "        print(thr, precision_is, max_recall)\n",
    "        \n",
    "\n",
    "# напечатайте порог, для которого получается максимальная полнота, при precision >= 0.13\n",
    "print(thr)"
   ]
  },
  {
   "cell_type": "code",
   "execution_count": 13,
   "metadata": {
    "id": "qpHv0DVwywKq"
   },
   "outputs": [
    {
     "name": "stdout",
     "output_type": "stream",
     "text": [
      "Recal score to this model:  0.8425760286225402\n",
      "Precision score to this model:  0.13779988297249854\n"
     ]
    },
    {
     "data": {
      "image/png": "[encoded data removed]",
      "text/plain": [
       "<Figure size 640x480 with 2 Axes>"
      ]
     },
     "metadata": {},
     "output_type": "display_data"
    },
    {
     "name": "stdout",
     "output_type": "stream",
     "text": [
      "Metric calculation complited\n"
     ]
    }
   ],
   "source": [
    "# по найденному порогу переведите вероятности в классы на тесте и напечатайте метрики\n",
    "predict_test = log_regres.predict_proba(Xtest)\n",
    "predict_thr_test = [1 if p[1]>=thr else 0 for p in predict_test]\n",
    "# [1 if prob[1] > threshold else 0 for prob in predict_proba_output]\n",
    "display_TZ_metrics(ytest, predict_thr_test, log_regres.classes_)"
   ]
  },
  {
   "cell_type": "markdown",
   "metadata": {
    "id": "fLakCD5TwmDe"
   },
   "source": [
    "Сделайте вывод. Смогли ли мы с помощью подбора порога добиться большего значения recall, чем у KNN? "
   ]
  },
  {
   "cell_type": "code",
   "execution_count": 14,
   "metadata": {
    "id": "222ZBiDy6Z1_"
   },
   "outputs": [
    {
     "name": "stdout",
     "output_type": "stream",
     "text": [
      "Метрика Recal демонстрирует достойные показатели, модель определяет 84% записей относящихся к положительному классу. \n",
      "Правда модель в целом стала большую часть записей относить к положительному классу,\n",
      "это демонстрирует большое количество ложно-положительных\n"
     ]
    }
   ],
   "source": [
    "# ваш вывод здесь\n",
    "print(\"Метрика Recal демонстрирует достойные показатели, модель определяет 84% записей относящихся к положительному классу. \\n\"\n",
    "\"Правда модель в целом стала большую часть записей относить к положительному классу,\\nэто демонстрирует большое количество ложно-положительных\")\n"
   ]
  },
  {
   "cell_type": "markdown",
   "metadata": {
    "id": "zc1D7Hy8wvkR"
   },
   "source": [
    "А ещё, чтобы улучшить качество предсказания, можно подбирать значение гиперпараметра C у логистической регрессии. Для каждого значения C придётся подбирать свой порог, поэтому:  \n",
    "\n",
    "1. Обучите для значений C из диапазона [0.05, 0.15, 0.25, ...., 10.05] логистическую регрессию (на тренировочных данных).\n",
    "\n",
    "2. Для каждой из обученных моделей во внутреннем цикле подберите оптимальный порог (как в предыдущем задании) — на валидационных данных.\n",
    "\n",
    "\n",
    "\n",
    "В качестве результата выведите значение C и порога для модели, которая даёт наилучшие значения метрик (наибольший recall при ограничении на $precision \\geq 0.13$).\n",
    "\n",
    "Также напечатайте полученные метрики (матрицу ошибок, точность и полноту) для лучшей модели — на тестовых данных."
   ]
  },
  {
   "cell_type": "code",
   "execution_count": 15,
   "metadata": {
    "id": "EhjmTEkhuT9S",
    "scrolled": true
   },
   "outputs": [],
   "source": [
    "regs = []\n",
    "recalls = []\n",
    "thresholds = []\n",
    "precisions = []\n",
    "\n",
    "for reg in np.arange(0.001, 1, 0.01):\n",
    "\n",
    "    # обучите логистическую регрессию с C=reg\n",
    "    model = LogisticRegression(C=reg)\n",
    "    model.fit(Xtrain, ytrain)\n",
    "    probs_val = model.predict_proba(Xval)\n",
    "    max_recall = -1\n",
    "    thr = -1\n",
    "    prec = -1\n",
    "\n",
    "    for threshold in np.arange(0.05, 0.25, 0.001):\n",
    "        # подберите оптимальный порог как в задании выше\n",
    "        predict_list = [1 if probs[1]>=threshold else 0 for probs in probs_val]\n",
    "    \n",
    "        # посчитайте метрики\n",
    "        recall_is = recall_score(yval, predict_list)\n",
    "        prec = precision_score(yval, predict_list)\n",
    "        if prec >= 0.13 and max_recall < recall_is:\n",
    "            thr = threshold\n",
    "            max_recall = recall_is\n",
    "            # print(thr, prec, max_recall)\n",
    "        \n",
    "    recalls.append(max_recall)\n",
    "    thresholds.append(thr)\n",
    "    precisions.append(prec)\n",
    "    regs.append(reg)\n",
    "\n"
   ]
  },
  {
   "cell_type": "code",
   "execution_count": 16,
   "metadata": {},
   "outputs": [
    {
     "data": {
      "text/html": [
       "<div>\n",
       "<style scoped>\n",
       "    .dataframe tbody tr th:only-of-type {\n",
       "        vertical-align: middle;\n",
       "    }\n",
       "\n",
       "    .dataframe tbody tr th {\n",
       "        vertical-align: top;\n",
       "    }\n",
       "\n",
       "    .dataframe thead th {\n",
       "        text-align: right;\n",
       "    }\n",
       "</style>\n",
       "<table border=\"1\" class=\"dataframe\">\n",
       "  <thead>\n",
       "    <tr style=\"text-align: right;\">\n",
       "      <th></th>\n",
       "      <th>recalls</th>\n",
       "      <th>precisions</th>\n",
       "      <th>thresholds</th>\n",
       "      <th>regs</th>\n",
       "    </tr>\n",
       "  </thead>\n",
       "  <tbody>\n",
       "    <tr>\n",
       "      <th>28</th>\n",
       "      <td>0.926346</td>\n",
       "      <td>0.290698</td>\n",
       "      <td>0.071</td>\n",
       "      <td>0.281</td>\n",
       "    </tr>\n",
       "  </tbody>\n",
       "</table>\n",
       "</div>"
      ],
      "text/plain": [
       "     recalls  precisions  thresholds   regs\n",
       "28  0.926346    0.290698       0.071  0.281"
      ]
     },
     "execution_count": 16,
     "metadata": {},
     "output_type": "execute_result"
    }
   ],
   "source": [
    "# print(np.array(precisions).max())\n",
    "df_result = pd.DataFrame({'recalls':recalls, 'precisions':precisions, 'thresholds':thresholds, 'regs': regs})\n",
    "df_result[df_result['recalls'] == df_result['recalls'].max()]\n"
   ]
  },
  {
   "cell_type": "code",
   "execution_count": 17,
   "metadata": {
    "id": "DZtXAIxi0Ksr"
   },
   "outputs": [
    {
     "name": "stdout",
     "output_type": "stream",
     "text": [
      "     recalls  precisions  thresholds   regs\n",
      "28  0.926346    0.290698       0.071  0.281\n",
      "    recalls  precisions  thresholds   regs\n",
      "1  0.892351    0.322581       0.074  0.011\n"
     ]
    }
   ],
   "source": [
    "# выведите значения C, precision, recall, threshold для наилучшей по заданным условиям модели\n",
    "print(df_result[df_result['recalls'] == df_result['recalls'].max()])\n",
    "print(df_result[df_result['precisions'] == df_result['precisions'].max()])"
   ]
  },
  {
   "cell_type": "code",
   "execution_count": 18,
   "metadata": {
    "id": "rQLQZ1bg4BGy"
   },
   "outputs": [
    {
     "name": "stdout",
     "output_type": "stream",
     "text": [
      "Recal score to this model:  0.8747763864042933\n",
      "Precision score to this model:  0.1361358574610245\n"
     ]
    },
    {
     "data": {
      "image/png": "[encoded data removed]",
      "text/plain": [
       "<Figure size 640x480 with 2 Axes>"
      ]
     },
     "metadata": {},
     "output_type": "display_data"
    },
    {
     "name": "stdout",
     "output_type": "stream",
     "text": [
      "Metric calculation complited\n"
     ]
    }
   ],
   "source": [
    "# с помощью найденных C и threshold обучите модель на тренировочных данных, сделайте предсказание на тесте и по найденному порогу получите классы\n",
    "tunned_logreg = LogisticRegression(C=0.281)\n",
    "tunned_logreg.fit(Xtrain, ytrain)\n",
    "tunned_pred_probs = tunned_logreg.predict_proba(Xtest)\n",
    "thr_pred = [1 if pred[1]>= 0.071 else 0 for pred in tunned_pred_probs]\n",
    "# напечатайте метрики\n",
    "display_TZ_metrics(ytest, thr_pred, tunned_logreg.classes_)"
   ]
  },
  {
   "cell_type": "markdown",
   "metadata": {
    "id": "fwpx_UVS2DK_"
   },
   "source": [
    "Влияет ли изменение гиперпараметра C на качество модели (и, соответственно, метрики) в этой задаче?"
   ]
  },
  {
   "cell_type": "code",
   "execution_count": 19,
   "metadata": {
    "id": "FzTsUr7p7Eu-"
   },
   "outputs": [
    {
     "name": "stdout",
     "output_type": "stream",
     "text": [
      "Да C влияет. Подобрав гипер параметр мы нашли верноположительных на 3% больше.\n"
     ]
    }
   ],
   "source": [
    "# ваш вывод здесь\n",
    "print(f\"Да C влияет. Подобрав гипер параметр мы нашли верноположительных на 3% больше.\")"
   ]
  },
  {
   "cell_type": "markdown",
   "metadata": {
    "id": "BaCqlDx74pns"
   },
   "source": [
    "Ответьте развёрнуто на следующие вопросы:\n",
    "\n",
    "* Удалось ли при помощи логистической регрессии и подбора порога превзойти качество метода ближайших соседей в этой задаче? \n",
    "\n",
    "* Смогли ли мы при помощи этой модели получить высокий recall при ограничениях, поставленных заказчиком?\n"
   ]
  },
  {
   "cell_type": "markdown",
   "metadata": {
    "id": "upznWo7n4o0F"
   },
   "source": [
    "# ваш вывод здесь\n",
    "Удалось ли при помощи логистической регрессии и подбора порога превзойти качество метода ближайших соседей в этой задаче?\n",
    "<br>\n",
    "Однозначно Да. Ради справедливости мы не пытались оптимизировать метод ближайших соседей, а без оптимизации логистическая регрессия не сильно отличалась от исходных показателей модели построенной на KNeighbors.\n",
    "<br>\n",
    "Поэтому будет справедливым ответ: <br>\n",
    "На удалось,\n",
    "Если получившуюся после оптимизации модель Логистической регрессии сравнивать с не оптимизированной моделью ближайших соседей.\n",
    "<br><br>\n",
    "<strong>Смогли ли мы при помощи этой модели получить высокий recall при ограничениях, поставленных заказчиком?</strong>\n",
    "<br>\n",
    "Наш recall демонстрирует что мы смогли найти 87% из клиентов которые откликнутся на предложение. Т.е. наша модель упустила только 13% клиентов которые нас интересовали. Мы конечно смогли улучшить recall при этом потеряв в точности всего 0.6%.\n",
    "<br>\n",
    "Далее я визуализирую метрики модели основанной на ближайших соседях и метрики нашей оптимизированной модели.\n"
   ]
  },
  {
   "cell_type": "code",
   "execution_count": 21,
   "metadata": {},
   "outputs": [
    {
     "name": "stdout",
     "output_type": "stream",
     "text": [
      "Модель ближайших соседях\n",
      "Recal score to this model:  0.0084985835694051\n",
      "Precision score to this model:  0.14285714285714285\n"
     ]
    },
    {
     "data": {
      "image/png": "[encoded data removed]",
      "text/plain": [
       "<Figure size 640x480 with 2 Axes>"
      ]
     },
     "metadata": {},
     "output_type": "display_data"
    },
    {
     "name": "stdout",
     "output_type": "stream",
     "text": [
      "Metric calculation complited\n"
     ]
    }
   ],
   "source": [
    "\n",
    "print(\"Модель ближайших соседях\")\n",
    "display_TZ_metrics(yval, kn_test_prediction, kn_clsfr.classes_)"
   ]
  },
  {
   "cell_type": "code",
   "execution_count": 22,
   "metadata": {},
   "outputs": [
    {
     "name": "stdout",
     "output_type": "stream",
     "text": [
      "Наш классификатор работающий на основе логистической регрессии\n",
      "Recal score to this model:  0.8747763864042933\n",
      "Precision score to this model:  0.1361358574610245\n"
     ]
    },
    {
     "data": {
      "image/png": "[encoded data removed]",
      "text/plain": [
       "<Figure size 640x480 with 2 Axes>"
      ]
     },
     "metadata": {},
     "output_type": "display_data"
    },
    {
     "name": "stdout",
     "output_type": "stream",
     "text": [
      "Metric calculation complited\n"
     ]
    }
   ],
   "source": [
    "print(\"Наш классификатор работающий на основе логистической регрессии\")\n",
    "display_TZ_metrics(ytest, thr_pred, tunned_logreg.classes_)"
   ]
  },
  {
   "cell_type": "markdown",
   "metadata": {},
   "source": [
    "Уверенно можно сказать что наша модель с задачей поиска клиентов относящихся к положительному классу, справится лучше.<br>\n",
    "Первоначальная модель смогла предсказать верно только 3-х клиентов против наших 489, судя по цифрам исходная модель в целом научилась предсказывать клиентов которые не заинтересуются коммерческим предложением.<br>\n",
    "Возможно эти 2 модели совместными усилиями могли бы компенсировать слабые стороны друг друга.)\n"
   ]
  },
  {
   "cell_type": "code",
   "execution_count": null,
   "metadata": {},
   "outputs": [],
   "source": []
  }
 ],
 "metadata": {
  "colab": {
   "collapsed_sections": [],
   "provenance": []
  },
  "kernelspec": {
   "display_name": "Python 3 (ipykernel)",
   "language": "python",
   "name": "python3"
  },
  "language_info": {
   "codemirror_mode": {
    "name": "ipython",
    "version": 3
   },
   "file_extension": ".py",
   "mimetype": "text/x-python",
   "name": "python",
   "nbconvert_exporter": "python",
   "pygments_lexer": "ipython3",
   "version": "3.11.5"
  }
 },
 "nbformat": 4,
 "nbformat_minor": 4
}
